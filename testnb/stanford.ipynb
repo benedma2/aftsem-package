{
 "cells": [
  {
   "cell_type": "markdown",
   "id": "c6dc5dd0-5c3f-4aa3-8656-06bd2c827161",
   "metadata": {},
   "source": [
    "### Install libraries"
   ]
  },
  {
   "cell_type": "code",
   "execution_count": null,
   "id": "dd785a5f-a099-45fc-8c97-d87083a895f7",
   "metadata": {},
   "outputs": [],
   "source": [
    "#library(ggfortify)\n",
    "#install.packges(\"xtable\") for latex table"
   ]
  },
  {
   "cell_type": "markdown",
   "id": "36b32410-4dae-4d66-9d6c-5264f026cd7e",
   "metadata": {},
   "source": [
    "### Load libraries"
   ]
  },
  {
   "cell_type": "code",
   "execution_count": null,
   "id": "b77d3bc2-acd3-40fe-b76e-dc99ff36aeb0",
   "metadata": {
    "tags": []
   },
   "outputs": [],
   "source": [
    "library(aftsem)\n",
    "library(survival)\n",
    "library(ggplot2)\n",
    "library(ggfortify)\n",
    "library(xtable)"
   ]
  },
  {
   "cell_type": "markdown",
   "id": "28d8d947-31a8-4cb3-82b1-fb5c0a99c6b0",
   "metadata": {},
   "source": [
    "### Load our data"
   ]
  },
  {
   "cell_type": "code",
   "execution_count": null,
   "id": "d7bb382c-16ff-4ebc-b29d-a4271b66d715",
   "metadata": {
    "tags": []
   },
   "outputs": [],
   "source": [
    "load(\"stan.RData\") # change if necessary"
   ]
  },
  {
   "cell_type": "code",
   "execution_count": null,
   "id": "fe649c58-bee1-4212-a44e-02ea9bacb82a",
   "metadata": {
    "tags": []
   },
   "outputs": [],
   "source": [
    "# lets look at the first few observations\n",
    "head(stan)"
   ]
  },
  {
   "cell_type": "markdown",
   "id": "23056697-48cc-48ad-bf63-7fdd9fce435b",
   "metadata": {},
   "source": [
    "### Simple visualizations\n",
    "<ul>\n",
    "    <li>Look at <b>age</b> covariate and compare it to survival time</li>\n",
    "    <li>Look at <b>t5</b> covariate and compare it to survival time</li>\n",
    "</ul>    "
   ]
  },
  {
   "cell_type": "code",
   "execution_count": null,
   "id": "7cf25d7f-f564-4b07-a522-3e4fef62fae1",
   "metadata": {
    "tags": []
   },
   "outputs": [],
   "source": [
    "# plot age on x-axis and time on y-axis\n",
    "plot1<-ggplot(stan, aes(x = age, y = time, shape = factor(status))) +\n",
    "  geom_point(aes(shape = ifelse(status == 1, \"x\", \"o\")), size = 4) +\n",
    "  scale_shape_manual(values = c(\"o\" = 16, \"x\" = 4)) + # shape 16 is a circle, shape 4 is an x\n",
    "  labs(title = \"\", x = \"Age\", y = \"Time\", shape = \"Status\") +\n",
    "  theme_minimal() +\n",
    "  theme(legend.position = \"none\")\n",
    "\n",
    "ggsave(\"plot_age_time.png\", plot1, width = 8, height = 6, dpi = 300)"
   ]
  },
  {
   "cell_type": "code",
   "execution_count": null,
   "id": "456f1a62-4a3a-4edb-934b-198726ef41b9",
   "metadata": {
    "tags": []
   },
   "outputs": [],
   "source": [
    "# plot t5 on x-axis and time on y-axis\n",
    "plot2<-ggplot(stan, aes(x = t5, y = time, shape = factor(status))) +\n",
    "  geom_point(aes(shape = ifelse(status == 1, \"x\", \"o\")), size = 4) +\n",
    "  scale_shape_manual(values = c(\"o\" = 16, \"x\" = 4)) + # shape 16 is a circle, shape 4 is an x\n",
    "  labs(title = \"\", x = \"T5\", y = \"Time\", shape = \"Status\") +\n",
    "  theme_minimal() +\n",
    "  theme(legend.position = \"none\")\n",
    "ggsave(\"plot_t5_time.png\", plot2, width = 8, height = 6, dpi = 300)"
   ]
  },
  {
   "cell_type": "markdown",
   "id": "938a7539-bef2-4bba-9306-94a374e17188",
   "metadata": {},
   "source": [
    "### Look at some important observations\n",
    "We are interested in\n",
    "<ul>\n",
    "    <li>Maximal observed survival time</li>\n",
    "    <li>Minimal observed survival time</li>\n",
    "    <li>Maximal observed age</li>\n",
    "    <li>Minimal observed age </li>\n",
    "    <li>Maximal observed t5</li>\n",
    "    <li>Minimal observed t5</li>\n",
    "    <li>Mean of age</li>\n",
    "    <li>Mean of t5</li>\n",
    "    <li>Percent of censoring</li>\n",
    "</ul>    "
   ]
  },
  {
   "cell_type": "code",
   "execution_count": null,
   "id": "42ec47b7-2bfa-468b-9aad-9c052a7979b8",
   "metadata": {
    "tags": []
   },
   "outputs": [],
   "source": [
    "print(max(stan$time))\n",
    "print(min(stan$time))\n",
    "print(max(stan$age))\n",
    "print(min(stan$age))\n",
    "print(max(stan$t5))\n",
    "print(min(stan$t5))"
   ]
  },
  {
   "cell_type": "code",
   "execution_count": null,
   "id": "54bc284b-f2da-4751-a85f-72fded7b6b28",
   "metadata": {
    "tags": []
   },
   "outputs": [],
   "source": [
    "print(mean(stan$age))\n",
    "print(mean(stan$t5))"
   ]
  },
  {
   "cell_type": "code",
   "execution_count": null,
   "id": "8efa0211-7875-4c29-ae85-f146bd9244e1",
   "metadata": {
    "tags": []
   },
   "outputs": [],
   "source": [
    "# number of censored\n",
    "print(157 - sum(stan$status))"
   ]
  },
  {
   "cell_type": "code",
   "execution_count": null,
   "id": "c3a029c6-cd6d-48cc-a5d4-91f079448348",
   "metadata": {
    "tags": []
   },
   "outputs": [],
   "source": [
    "# oldest pacient\n",
    "row_index <- which(stan$age == 64)\n",
    "specific_row <- stan[row_index, ]\n",
    "print(specific_row)"
   ]
  },
  {
   "cell_type": "code",
   "execution_count": null,
   "id": "89b5da56-bc3d-4859-96e4-2f6df2dec5b2",
   "metadata": {
    "tags": []
   },
   "outputs": [],
   "source": [
    "#youngest pacient\n",
    "row_index <- which(stan$age == 12)\n",
    "specific_row <- stan[row_index, ]\n",
    "print(specific_row)"
   ]
  },
  {
   "cell_type": "code",
   "execution_count": null,
   "id": "59761b31-eada-4a3b-9491-fadd150161cb",
   "metadata": {
    "tags": []
   },
   "outputs": [],
   "source": [
    "#lowest t5\n",
    "row_index <- which(stan$t5 == 0)\n",
    "specific_row <- stan[row_index, ]\n",
    "print(specific_row)"
   ]
  },
  {
   "cell_type": "code",
   "execution_count": null,
   "id": "a1d66643-ce68-44eb-a988-a45ee6f4ec12",
   "metadata": {
    "tags": []
   },
   "outputs": [],
   "source": [
    "#highest t5\n",
    "row_index <- which(stan$t5 == 3.05)\n",
    "specific_row <- stan[row_index, ]\n",
    "print(specific_row)"
   ]
  },
  {
   "cell_type": "code",
   "execution_count": null,
   "id": "0fbe952f-7382-4e05-a8d9-17b87dda19b7",
   "metadata": {
    "tags": []
   },
   "outputs": [],
   "source": [
    "#highest time\n",
    "row_index <- which(stan$time == 3695)\n",
    "specific_row <- stan[row_index, ]\n",
    "print(specific_row)"
   ]
  },
  {
   "cell_type": "code",
   "execution_count": null,
   "id": "1709de4d-70a7-4316-a6b1-104c04c55618",
   "metadata": {
    "tags": []
   },
   "outputs": [],
   "source": [
    "#lowest time\n",
    "row_index <- which(stan$time == 1)\n",
    "specific_row <- stan[row_index, ]\n",
    "print(specific_row)"
   ]
  },
  {
   "cell_type": "markdown",
   "id": "932f61d1-8376-4763-b5da-2bb5d13100b1",
   "metadata": {},
   "source": [
    "### Kaplan-Meier survival curve\n",
    "\n",
    "That gives of non-parametric survival function estimation"
   ]
  },
  {
   "cell_type": "code",
   "execution_count": null,
   "id": "4bd75817-f047-468d-91e4-e72bffb99430",
   "metadata": {
    "tags": []
   },
   "outputs": [],
   "source": [
    "png(\"survival_plot_with_lines.png\", width = 800, height = 600) # save config\n",
    "fit.stan = survfit(Surv(stan$time, stan$status) ~ 1) # we are using implementation from package survival\n",
    "\n",
    "plot(fit.stan, xlab=\"time\", ylab=\"Funkce přežití\", col=\"black\", cex.lab=1.5, cex.axis=1.5, cex.main=1.5, lwd=2)\n",
    "abline(h = 0.5, col = \"red\", lwd = 2)\n",
    "time_at_50_percent <- 1000 \n",
    "segments(0, 0.5, time_at_50_percent, 0.5, col = \"red\", lwd = 2)\n",
    "\n",
    "# now add a vertical line at the same x-value up to the point of intersection with the survival curve\n",
    "# since the survival plot doesn't typically extend below 0, the y0 argument is set to 0\n",
    "segments(time_at_50_percent, 0, time_at_50_percent, 0.5, col = \"red\", lwd = 2)"
   ]
  },
  {
   "cell_type": "markdown",
   "id": "c455f863-1e0b-4847-8fe0-816a655e0dbd",
   "metadata": {},
   "source": [
    "### Semiparametric AFT model\n",
    "\n",
    "<b>Lets use our implemented model!!</b> <br>\n",
    "The next cells show the usage of package <b>aftsem</b>"
   ]
  },
  {
   "cell_type": "markdown",
   "id": "3ab4ef31-6166-422b-9d55-f904a48e2853",
   "metadata": {},
   "source": [
    "### --------------------------------------------------\n",
    "#### First model => log(T)  = age + t5 + eps\n",
    "### --------------------------------------------------"
   ]
  },
  {
   "cell_type": "code",
   "execution_count": null,
   "id": "302444f0-165b-473d-83d1-074c1ce83f99",
   "metadata": {
    "tags": []
   },
   "outputs": [],
   "source": [
    "# fit call, we are specifiing arguments formula, method and resample\n",
    "fit <- aftsem(Surv(log(stan$time),stan$status) ~ stan$age + stan$t5, method = \"jin\", resample = 500)"
   ]
  },
  {
   "cell_type": "code",
   "execution_count": null,
   "id": "4aab0516-03ab-44c0-bac2-501a464a2412",
   "metadata": {
    "tags": []
   },
   "outputs": [],
   "source": [
    "# lets look at model summary\n",
    "summary(fit)"
   ]
  },
  {
   "cell_type": "code",
   "execution_count": null,
   "id": "992dd25a-227c-4630-9b4d-c085f396e18e",
   "metadata": {
    "tags": []
   },
   "outputs": [],
   "source": [
    "# what was the initial beta guess?\n",
    "print(fit$betafirst)"
   ]
  },
  {
   "cell_type": "code",
   "execution_count": null,
   "id": "1acdc2af-ae2b-4bec-bd92-e364a17242b5",
   "metadata": {},
   "outputs": [],
   "source": [
    "#fit$resid"
   ]
  },
  {
   "cell_type": "code",
   "execution_count": null,
   "id": "75d14a05-18cf-42b1-9580-e87c5e106f90",
   "metadata": {
    "tags": []
   },
   "outputs": [],
   "source": [
    "# now lets use gehan-heller method, notice that we must change the control list if we want to get variance estimation\n",
    "fit2 <- aftsem(Surv(log(stan$time),stan$status) ~ stan$age + stan$t5, method = \"gehan-heller\", control = list(variance.estimation = TRUE, use.grad = FALSE, optimx.alg = \"BFGS\"))"
   ]
  },
  {
   "cell_type": "code",
   "execution_count": null,
   "id": "cbe5f1c4-fc74-42fa-b9a9-24b6b8f99c6e",
   "metadata": {
    "tags": []
   },
   "outputs": [],
   "source": [
    "# lets look at model summary using hellers\n",
    "summary(fit2)"
   ]
  },
  {
   "cell_type": "code",
   "execution_count": null,
   "id": "5b202d55-b69e-4cf1-9b6c-e89a351c7675",
   "metadata": {
    "tags": []
   },
   "outputs": [],
   "source": [
    "# get estimated regression parameters from all methods\n",
    "# we are using default settings, that means binit = \"auto\" and no variance estimation\n",
    "b1 <- aftsem(Surv(log(stan$time),stan$status) ~ stan$age + stan$t5, method = \"gehan-poly\")$beta\n",
    "b2 <- aftsem(Surv(log(stan$time),stan$status) ~ stan$age + stan$t5, method = \"gehan-heller\", binit = \"gehan\")$beta\n",
    "b3 <- aftsem(Surv(log(stan$time),stan$status) ~ stan$age + stan$t5, method = \"gehan\")$beta\n",
    "b4 <- aftsem(Surv(log(stan$time),stan$status) ~ stan$age + stan$t5, method = \"jin\")$beta\n",
    "b5 <- aftsem(Surv(log(stan$time),stan$status) ~ stan$age + stan$t5, method = \"buckley\")$beta"
   ]
  },
  {
   "cell_type": "code",
   "execution_count": null,
   "id": "6222ca6c-9c6b-4785-b131-182c47e80a15",
   "metadata": {
    "tags": []
   },
   "outputs": [],
   "source": [
    "# save our results to dataframe\n",
    "res <- data.frame(\n",
    "  `gehan-poly` = as.vector(b1),\n",
    "  `gehan-heller` = as.vector(b2),\n",
    "  gehan = as.vector(b3),\n",
    "  jin = as.vector(b4),\n",
    "  buckley = as.vector(b5)\n",
    ")"
   ]
  },
  {
   "cell_type": "code",
   "execution_count": null,
   "id": "60504ba5-9554-4fb9-a68c-4a389e1dc901",
   "metadata": {
    "tags": []
   },
   "outputs": [],
   "source": [
    "# save to latex, no need to execute this cell\n",
    "latex_table <- xtable(res)\n",
    "print(latex_table, include.rownames = FALSE, hline.after = c(-1, 0, nrow(res)), comment = FALSE)"
   ]
  },
  {
   "cell_type": "markdown",
   "id": "ddafca71-de1f-4500-897d-f0681e458700",
   "metadata": {},
   "source": [
    "### --------------------------------------------------\n",
    "#### Second model => log(T)  = age + age^2 + eps\n",
    "### --------------------------------------------------"
   ]
  },
  {
   "cell_type": "code",
   "execution_count": null,
   "id": "4fef3dfb-ba4a-4263-bc03-665fd6d61176",
   "metadata": {
    "tags": []
   },
   "outputs": [],
   "source": [
    "# fit of our second model\n",
    "fit3 <- aftsem(Surv(log(time),status) ~ age + I(age^2), data = stan, method = \"gehan-heller\", binit=\"gehan\", control = list(variance.estimation = TRUE, use.grad = FALSE, optimx.alg = \"BFGS\", quantile.method = \"br\"))"
   ]
  },
  {
   "cell_type": "code",
   "execution_count": null,
   "id": "1c272279-6c5e-42f3-91f0-e5ea1c3abed7",
   "metadata": {
    "tags": []
   },
   "outputs": [],
   "source": [
    "summary(fit3)"
   ]
  },
  {
   "cell_type": "code",
   "execution_count": null,
   "id": "60781f79-3e22-45c6-aece-96d49c909389",
   "metadata": {
    "tags": []
   },
   "outputs": [],
   "source": [
    "# again, we will save estimated regression parameters from all of the methods\n",
    "# we are still using default settings\n",
    "b1 <- aftsem(Surv(log(time),status) ~ age + I(age^2),data = stan, method = \"gehan-poly\")$beta\n",
    "b2 <- aftsem(Surv(log(time),status) ~ age + I(age^2),data = stan,  method = \"gehan-heller\", binit = \"gehan\")$beta\n",
    "b3 <- aftsem(Surv(log(time),status) ~ age + I(age^2),data = stan,  method = \"gehan\")$beta\n",
    "b4 <- aftsem(Surv(log(time),status) ~ age + I(age^2),data = stan,  method = \"jin\")$beta\n",
    "b5 <- aftsem(Surv(log(time),status) ~ age + I(age^2),data = stan,  method = \"buckley\")$beta"
   ]
  },
  {
   "cell_type": "code",
   "execution_count": null,
   "id": "450761e9-d4d5-417b-b407-739d980b0163",
   "metadata": {
    "tags": []
   },
   "outputs": [],
   "source": [
    "# save to dataframe\n",
    "res <- data.frame(\n",
    "  `gehan-poly` = as.vector(b1),\n",
    "  `gehan-heller` = as.vector(b2),\n",
    "  gehan = as.vector(b3),\n",
    "  jin = as.vector(b4),\n",
    "  buckley = as.vector(b5)\n",
    ")"
   ]
  },
  {
   "cell_type": "code",
   "execution_count": null,
   "id": "bea003cf-388d-491a-b6f3-cf6000919dd8",
   "metadata": {
    "tags": []
   },
   "outputs": [],
   "source": [
    "#save to latex\n",
    "latex_table <- xtable(res)\n",
    "print(latex_table, include.rownames = FALSE, hline.after = c(-1, 0, nrow(res)), comment = FALSE)"
   ]
  },
  {
   "cell_type": "code",
   "execution_count": null,
   "id": "ab5034c8-bddd-4712-a991-a37fdf23f1aa",
   "metadata": {},
   "outputs": [],
   "source": []
  }
 ],
 "metadata": {
  "kernelspec": {
   "display_name": "R",
   "language": "R",
   "name": "ir"
  },
  "language_info": {
   "codemirror_mode": "r",
   "file_extension": ".r",
   "mimetype": "text/x-r-source",
   "name": "R",
   "pygments_lexer": "r",
   "version": "4.4.0"
  }
 },
 "nbformat": 4,
 "nbformat_minor": 5
}
