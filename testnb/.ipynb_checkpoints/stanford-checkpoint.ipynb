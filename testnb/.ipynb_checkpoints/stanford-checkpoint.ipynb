{
 "cells": [
  {
   "cell_type": "code",
   "execution_count": 17,
   "id": "b77d3bc2-acd3-40fe-b76e-dc99ff36aeb0",
   "metadata": {
    "tags": []
   },
   "outputs": [],
   "source": [
    "library(aftsem)\n",
    "library(survival)\n",
    "library(ggplot2)\n",
    "library(ggfortify)"
   ]
  },
  {
   "cell_type": "code",
   "execution_count": 2,
   "id": "d7bb382c-16ff-4ebc-b29d-a4271b66d715",
   "metadata": {
    "tags": []
   },
   "outputs": [],
   "source": [
    "load(\"/home/benedma/R/aftsem/testdata/stan.RData\")"
   ]
  },
  {
   "cell_type": "code",
   "execution_count": 3,
   "id": "fe649c58-bee1-4212-a44e-02ea9bacb82a",
   "metadata": {
    "tags": []
   },
   "outputs": [
    {
     "data": {
      "text/html": [
       "<table class=\"dataframe\">\n",
       "<caption>A data.frame: 6 × 5</caption>\n",
       "<thead>\n",
       "\t<tr><th></th><th scope=col>id</th><th scope=col>time</th><th scope=col>status</th><th scope=col>age</th><th scope=col>t5</th></tr>\n",
       "\t<tr><th></th><th scope=col>&lt;int&gt;</th><th scope=col>&lt;int&gt;</th><th scope=col>&lt;int&gt;</th><th scope=col>&lt;int&gt;</th><th scope=col>&lt;dbl&gt;</th></tr>\n",
       "</thead>\n",
       "<tbody>\n",
       "\t<tr><th scope=row>1</th><td>1</td><td> 15</td><td>1</td><td>54</td><td>1.11</td></tr>\n",
       "\t<tr><th scope=row>2</th><td>2</td><td>  3</td><td>1</td><td>40</td><td>1.66</td></tr>\n",
       "\t<tr><th scope=row>3</th><td>3</td><td> 46</td><td>1</td><td>42</td><td>0.61</td></tr>\n",
       "\t<tr><th scope=row>4</th><td>4</td><td>623</td><td>1</td><td>51</td><td>1.32</td></tr>\n",
       "\t<tr><th scope=row>5</th><td>5</td><td>126</td><td>1</td><td>48</td><td>0.36</td></tr>\n",
       "\t<tr><th scope=row>6</th><td>6</td><td> 64</td><td>1</td><td>54</td><td>1.89</td></tr>\n",
       "</tbody>\n",
       "</table>\n"
      ],
      "text/latex": [
       "A data.frame: 6 × 5\n",
       "\\begin{tabular}{r|lllll}\n",
       "  & id & time & status & age & t5\\\\\n",
       "  & <int> & <int> & <int> & <int> & <dbl>\\\\\n",
       "\\hline\n",
       "\t1 & 1 &  15 & 1 & 54 & 1.11\\\\\n",
       "\t2 & 2 &   3 & 1 & 40 & 1.66\\\\\n",
       "\t3 & 3 &  46 & 1 & 42 & 0.61\\\\\n",
       "\t4 & 4 & 623 & 1 & 51 & 1.32\\\\\n",
       "\t5 & 5 & 126 & 1 & 48 & 0.36\\\\\n",
       "\t6 & 6 &  64 & 1 & 54 & 1.89\\\\\n",
       "\\end{tabular}\n"
      ],
      "text/markdown": [
       "\n",
       "A data.frame: 6 × 5\n",
       "\n",
       "| <!--/--> | id &lt;int&gt; | time &lt;int&gt; | status &lt;int&gt; | age &lt;int&gt; | t5 &lt;dbl&gt; |\n",
       "|---|---|---|---|---|---|\n",
       "| 1 | 1 |  15 | 1 | 54 | 1.11 |\n",
       "| 2 | 2 |   3 | 1 | 40 | 1.66 |\n",
       "| 3 | 3 |  46 | 1 | 42 | 0.61 |\n",
       "| 4 | 4 | 623 | 1 | 51 | 1.32 |\n",
       "| 5 | 5 | 126 | 1 | 48 | 0.36 |\n",
       "| 6 | 6 |  64 | 1 | 54 | 1.89 |\n",
       "\n"
      ],
      "text/plain": [
       "  id time status age t5  \n",
       "1 1   15  1      54  1.11\n",
       "2 2    3  1      40  1.66\n",
       "3 3   46  1      42  0.61\n",
       "4 4  623  1      51  1.32\n",
       "5 5  126  1      48  0.36\n",
       "6 6   64  1      54  1.89"
      ]
     },
     "metadata": {},
     "output_type": "display_data"
    }
   ],
   "source": [
    "head(stan)"
   ]
  },
  {
   "cell_type": "markdown",
   "id": "932f61d1-8376-4763-b5da-2bb5d13100b1",
   "metadata": {},
   "source": [
    "### Kaplan-Meier survival curve"
   ]
  },
  {
   "cell_type": "code",
   "execution_count": 7,
   "id": "4bd75817-f047-468d-91e4-e72bffb99430",
   "metadata": {
    "tags": []
   },
   "outputs": [
    {
     "data": {
      "text/plain": [
       "Call: survfit(formula = Surv(stan$time, stan$status) ~ 1)\n",
       "\n",
       " time n.risk n.event survival std.err lower 95% CI upper 95% CI\n",
       "    1    157       3    0.981  0.0109       0.9597        1.000\n",
       "    3    154       1    0.975  0.0126       0.9502        0.999\n",
       "    7    153       1    0.968  0.0140       0.9411        0.996\n",
       "   10    152       2    0.955  0.0165       0.9237        0.988\n",
       "   12    150       1    0.949  0.0176       0.9153        0.984\n",
       "   15    149       1    0.943  0.0186       0.9070        0.980\n",
       "   22    148       1    0.936  0.0195       0.8989        0.975\n",
       "   23    147       1    0.930  0.0204       0.8909        0.971\n",
       "   25    146       2    0.917  0.0220       0.8751        0.961\n",
       "   26    144       1    0.911  0.0227       0.8673        0.957\n",
       "   29    143       1    0.904  0.0235       0.8596        0.952\n",
       "   30    142       1    0.898  0.0241       0.8520        0.947\n",
       "   31    141       1    0.892  0.0248       0.8444        0.942\n",
       "   36    140       1    0.885  0.0254       0.8369        0.937\n",
       "   39    139       1    0.879  0.0260       0.8294        0.932\n",
       "   40    138       1    0.873  0.0266       0.8220        0.926\n",
       "   42    137       1    0.866  0.0272       0.8146        0.921\n",
       "   44    136       2    0.854  0.0282       0.7999        0.911\n",
       "   45    134       1    0.847  0.0287       0.7927        0.905\n",
       "   46    133       1    0.841  0.0292       0.7854        0.900\n",
       "   47    132       2    0.828  0.0301       0.7711        0.889\n",
       "   48    130       3    0.809  0.0314       0.7497        0.873\n",
       "   50    127       2    0.796  0.0321       0.7356        0.862\n",
       "   51    125       2    0.783  0.0329       0.7216        0.851\n",
       "   54    123       1    0.777  0.0332       0.7146        0.845\n",
       "   60    122       1    0.771  0.0336       0.7077        0.839\n",
       "   63    121       1    0.764  0.0339       0.7007        0.834\n",
       "   64    120       1    0.758  0.0342       0.6938        0.828\n",
       "   65    119       2    0.745  0.0348       0.6801        0.817\n",
       "   66    117       2    0.732  0.0353       0.6664        0.805\n",
       "   68    115       2    0.720  0.0358       0.6528        0.794\n",
       "   86    113       1    0.713  0.0361       0.6460        0.788\n",
       "   90    112       1    0.707  0.0363       0.6393        0.782\n",
       "  122    111       1    0.701  0.0366       0.6325        0.776\n",
       "  126    110       1    0.694  0.0368       0.6258        0.770\n",
       "  132    109       1    0.688  0.0370       0.6191        0.764\n",
       "  136    108       1    0.682  0.0372       0.6124        0.758\n",
       "  139    107       1    0.675  0.0374       0.6057        0.753\n",
       "  145    106       1    0.669  0.0376       0.5991        0.747\n",
       "  146    105       1    0.662  0.0377       0.5924        0.741\n",
       "  161    104       1    0.656  0.0379       0.5858        0.735\n",
       "  169    103       1    0.650  0.0381       0.5792        0.729\n",
       "  191    101       1    0.643  0.0382       0.5725        0.723\n",
       "  195    100       1    0.637  0.0384       0.5658        0.717\n",
       "  202     99       1    0.630  0.0385       0.5592        0.711\n",
       "  221     98       1    0.624  0.0387       0.5526        0.705\n",
       "  227     97       1    0.618  0.0388       0.5459        0.698\n",
       "  254     96       1    0.611  0.0389       0.5393        0.692\n",
       "  263     95       1    0.605  0.0391       0.5328        0.686\n",
       "  265     94       1    0.598  0.0392       0.5262        0.680\n",
       "  274     93       1    0.592  0.0393       0.5196        0.674\n",
       "  279     91       1    0.585  0.0394       0.5130        0.668\n",
       "  293     89       1    0.579  0.0395       0.5063        0.661\n",
       "  297     88       1    0.572  0.0396       0.4996        0.655\n",
       "  323     86       1    0.565  0.0397       0.4928        0.649\n",
       "  328     85       1    0.559  0.0398       0.4861        0.642\n",
       "  381     84       1    0.552  0.0398       0.4794        0.636\n",
       "  431     81       1    0.545  0.0399       0.4725        0.629\n",
       "  538     78       1    0.538  0.0400       0.4654        0.623\n",
       "  544     76       1    0.531  0.0401       0.4582        0.616\n",
       "  547     75       1    0.524  0.0402       0.4510        0.609\n",
       "  550     72       1    0.517  0.0403       0.4437        0.602\n",
       "  623     68       1    0.509  0.0404       0.4360        0.595\n",
       "  626     67       1    0.502  0.0405       0.4283        0.588\n",
       "  631     66       1    0.494  0.0406       0.4206        0.580\n",
       "  729     63       1    0.486  0.0407       0.4127        0.573\n",
       "  730     62       1    0.478  0.0408       0.4048        0.565\n",
       "  731     61       1    0.471  0.0409       0.3969        0.558\n",
       "  838     56       1    0.462  0.0410       0.3884        0.550\n",
       "  928     54       1    0.454  0.0411       0.3798        0.542\n",
       "  994     52       1    0.445  0.0413       0.3710        0.534\n",
       " 1024     51       1    0.436  0.0414       0.3622        0.525\n",
       " 1150     46       1    0.427  0.0415       0.3526        0.516\n",
       " 1232     44       1    0.417  0.0417       0.3428        0.507\n",
       " 1247     43       1    0.407  0.0418       0.3330        0.498\n",
       " 1271     39       1    0.397  0.0421       0.3224        0.488\n",
       " 1318     38       1    0.386  0.0422       0.3119        0.479\n",
       " 1350     36       1    0.376  0.0424       0.3011        0.469\n",
       " 1352     35       1    0.365  0.0425       0.2904        0.459\n",
       " 1384     32       1    0.354  0.0427       0.2790        0.448\n",
       " 1478     30       1    0.342  0.0429       0.2673        0.437\n",
       " 1534     29       1    0.330  0.0430       0.2556        0.426\n",
       " 1634     26       1    0.317  0.0432       0.2430        0.414\n",
       " 1961     18       1    0.300  0.0442       0.2244        0.400\n",
       " 1996     16       1    0.281  0.0452       0.2049        0.385\n",
       " 2127     11       1    0.255  0.0478       0.1770        0.369\n",
       " 2474      9       1    0.227  0.0502       0.1472        0.350\n",
       " 2723      8       1    0.199  0.0513       0.1197        0.330\n",
       " 2878      5       1    0.159  0.0543       0.0813        0.310"
      ]
     },
     "metadata": {},
     "output_type": "display_data"
    },
    {
     "data": {
      "image/png": "[encoded data removed]",
      "text/plain": [
       "plot without title"
      ]
     },
     "metadata": {
      "image/png": {
       "height": 420,
       "width": 420
      }
     },
     "output_type": "display_data"
    }
   ],
   "source": [
    "fit.stan = survfit(Surv(stan$time, stan$status) ~ 1)\n",
    "summary(fit.stan)\n",
    "plot(fit.stan, xlab=\"Weeks\", ylab=\"Proportion Survivors\", col=3, cex.lab=1.5, cex.axis=1.5, cex.main=1.5, lwd=2)"
   ]
  },
  {
   "cell_type": "markdown",
   "id": "0d66c7ce-7b32-4d80-a516-5fefd3787112",
   "metadata": {},
   "source": [
    "#################################################################################################"
   ]
  },
  {
   "cell_type": "markdown",
   "id": "c455f863-1e0b-4847-8fe0-816a655e0dbd",
   "metadata": {},
   "source": [
    "### Semiparametric AFT model"
   ]
  },
  {
   "cell_type": "markdown",
   "id": "0a3aaf68-016c-44bd-bb82-a23d2bfa4b71",
   "metadata": {},
   "source": [
    "#################################################################################################"
   ]
  },
  {
   "cell_type": "code",
   "execution_count": 9,
   "id": "792b589b-365a-438a-9e77-c170d25a45c1",
   "metadata": {
    "tags": []
   },
   "outputs": [
    {
     "name": "stderr",
     "output_type": "stream",
     "text": [
      "Warning message in aftsem(formula = Surv(log(stan$time), stan$status) ~ stan$age + :\n",
      "“There are ties in the failure times.”\n"
     ]
    },
    {
     "data": {
      "text/plain": [
       "AFT Semiparametric Model Summary\n",
       "================================\n",
       "\n",
       "Model Call: aftsem(formula = Surv(log(stan$time), stan$status) ~ stan$age + \n",
       " Model Call:     stan$t5, data = stan, method = \"jin\", resample = 100)\n",
       "\n",
       "Used parameter estimation method: \n",
       "[1] \"jin\"\n",
       "\n",
       "Convergence Status: Converged\n",
       "\n",
       "         |Estimate| |Std. Error| |Z value| |Pr(>|Z|)|\n",
       "stan$age    -0.0342       0.0226     -1.51       0.13\n",
       "stan$t5     -0.0064       0.3431     -0.02       0.99\n",
       "Number of Iterations: 8\n",
       "Number of Observations: 157\n",
       "Percent of Censored Observations: 35.030000\n"
      ]
     },
     "metadata": {},
     "output_type": "display_data"
    }
   ],
   "source": [
    "f <- aftsem(formula = Surv(log(stan$time),stan$status) ~ stan$age + stan$t5, data = stan, method = \"jin\", resample = 100)\n",
    "summary(f)"
   ]
  },
  {
   "cell_type": "markdown",
   "id": "8a19ea0a-b915-47bd-9207-025551f52a4b",
   "metadata": {},
   "source": [
    "#################################################################################################"
   ]
  },
  {
   "cell_type": "markdown",
   "id": "c19dd44b-4008-4fb6-8f89-1b4ee00e407d",
   "metadata": {},
   "source": [
    "### Cox Model"
   ]
  },
  {
   "cell_type": "markdown",
   "id": "3c02a605-e451-4eba-bc52-851ede4f393d",
   "metadata": {},
   "source": [
    "#################################################################################################"
   ]
  },
  {
   "cell_type": "code",
   "execution_count": 18,
   "id": "3f9d6f6e-ad0e-426c-a79d-99c812f34c7f",
   "metadata": {
    "tags": []
   },
   "outputs": [
    {
     "data": {
      "text/plain": [
       "Call:\n",
       "coxph(formula = Surv(stan$time, stan$status) ~ stan$age + stan$t5, \n",
       "    data = stan)\n",
       "\n",
       "  n= 157, number of events= 102 \n",
       "\n",
       "            coef exp(coef) se(coef)     z Pr(>|z|)   \n",
       "stan$age 0.02962   1.03006  0.01136 2.608  0.00911 **\n",
       "stan$t5  0.17034   1.18571  0.18327 0.929  0.35265   \n",
       "---\n",
       "Signif. codes:  0 ‘***’ 0.001 ‘**’ 0.01 ‘*’ 0.05 ‘.’ 0.1 ‘ ’ 1\n",
       "\n",
       "         exp(coef) exp(-coef) lower .95 upper .95\n",
       "stan$age     1.030     0.9708    1.0074     1.053\n",
       "stan$t5      1.186     0.8434    0.8279     1.698\n",
       "\n",
       "Concordance= 0.59  (se = 0.034 )\n",
       "Likelihood ratio test= 8.47  on 2 df,   p=0.01\n",
       "Wald test            = 7.81  on 2 df,   p=0.02\n",
       "Score (logrank) test = 7.87  on 2 df,   p=0.02\n"
      ]
     },
     "metadata": {},
     "output_type": "display_data"
    },
    {
     "data": {
      "image/png": "[encoded data removed]",
      "text/plain": [
       "plot without title"
      ]
     },
     "metadata": {
      "image/png": {
       "height": 420,
       "width": 420
      }
     },
     "output_type": "display_data"
    }
   ],
   "source": [
    "ff <- coxph(formula = Surv(stan$time,stan$status) ~ stan$age + stan$t5, data = stan)\n",
    "summary(ff)\n",
    "cox_fit <- survfit(ff)\n",
    "autoplot(cox_fit)"
   ]
  },
  {
   "cell_type": "markdown",
   "id": "232928cc-60b6-495d-88f0-adfcaff5ca13",
   "metadata": {},
   "source": [
    "#################################################################################################"
   ]
  },
  {
   "cell_type": "markdown",
   "id": "6c339a3b-ccbb-431b-8b75-67c0fd67304d",
   "metadata": {},
   "source": [
    "### Parametric model"
   ]
  },
  {
   "cell_type": "markdown",
   "id": "45c7d383-92a5-446a-a840-3901a18df591",
   "metadata": {},
   "source": [
    "#################################################################################################"
   ]
  },
  {
   "cell_type": "code",
   "execution_count": 21,
   "id": "30b3eec9-f162-4609-9e39-c8312dc81b55",
   "metadata": {
    "tags": []
   },
   "outputs": [
    {
     "data": {
      "text/plain": [
       "\n",
       "Call:\n",
       "survreg(formula = Surv(stan$time, stan$status) ~ stan$age + stan$t5, \n",
       "    data = stan, dist = \"weibull\")\n",
       "              Value Std. Error     z      p\n",
       "(Intercept)  9.8456     0.9764 10.08 <2e-16\n",
       "stan$age    -0.0566     0.0205 -2.76 0.0057\n",
       "stan$t5     -0.3130     0.3271 -0.96 0.3386\n",
       "Log(scale)   0.5859     0.0840  6.98  3e-12\n",
       "\n",
       "Scale= 1.8 \n",
       "\n",
       "Weibull distribution\n",
       "Loglik(model)= -784.9   Loglik(intercept only)= -789.7\n",
       "\tChisq= 9.57 on 2 degrees of freedom, p= 0.0084 \n",
       "Number of Newton-Raphson Iterations: 5 \n",
       "n= 157 \n"
      ]
     },
     "metadata": {},
     "output_type": "display_data"
    }
   ],
   "source": [
    "fit.param <- survreg(formula = Surv(stan$time,stan$status) ~ stan$age + stan$t5, data = stan, dist = \"weibull\")\n",
    "summary(fit.param)"
   ]
  },
  {
   "cell_type": "markdown",
   "id": "02cebbfb-cb87-4c6a-850a-48520e5637c6",
   "metadata": {},
   "source": [
    "#################################################################################################"
   ]
  }
 ],
 "metadata": {
  "kernelspec": {
   "display_name": "R",
   "language": "R",
   "name": "ir"
  },
  "language_info": {
   "codemirror_mode": "r",
   "file_extension": ".r",
   "mimetype": "text/x-r-source",
   "name": "R",
   "pygments_lexer": "r",
   "version": "4.2.2"
  }
 },
 "nbformat": 4,
 "nbformat_minor": 5
}
