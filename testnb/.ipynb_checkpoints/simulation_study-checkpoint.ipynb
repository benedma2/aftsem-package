{
 "cells": [
  {
   "cell_type": "markdown",
   "id": "827a36e7-1d82-44fd-97b3-2e46d1ef1452",
   "metadata": {},
   "source": [
    "### Load neccesary libraries"
   ]
  },
  {
   "cell_type": "code",
   "execution_count": null,
   "id": "3f09aa52-b839-48af-b9b7-968a021add69",
   "metadata": {
    "tags": []
   },
   "outputs": [],
   "source": [
    "library(aftsem)\n",
    "# you should load aftsem before survival, otherwise one might expect conflicts in packages\n",
    "library(survival)\n",
    "library(extRemes) # for data generation\n",
    "library(ggplot2)\n",
    "library(dplyr)\n",
    "library(tidyr)\n",
    "library(knitr)\n",
    "library(IRdisplay)\n",
    "library(tibble)"
   ]
  },
  {
   "cell_type": "markdown",
   "id": "8dd83f63-3dac-475b-a1b8-6ae1b385fc6b",
   "metadata": {},
   "source": [
    "### Dataset generator\n",
    "This function provide user with simple dataset generator that takes "
   ]
  },
  {
   "cell_type": "code",
   "execution_count": null,
   "id": "e441b298-a9e5-4854-bb48-4adf972a4f23",
   "metadata": {
    "tags": []
   },
   "outputs": [],
   "source": [
    "datgen_model1 <- function(n = 50, error = \"normal\", censor = 40)\n",
    "{\n",
    "    \n",
    "  x1 <- rbinom(n, 1, 0.5)\n",
    "  x2 <- rnorm(n)\n",
    "  x3 <- rnorm(n)\n",
    "  \n",
    "  e <- numeric(n)\n",
    "  \n",
    "  if (error == \"normal\")\n",
    "  {\n",
    "    e <- rnorm(n)\n",
    "  }\n",
    "  else if (error == \"extreme\")\n",
    "  {\n",
    "    e <- revd(n, loc = 0, scale = 1, shape = 0)\n",
    "  }\n",
    "  else if (error == \"logistic\") \n",
    "  {\n",
    "    e <- rlogis(n, location = 0, scale = 1)\n",
    "  }\n",
    "  \n",
    "  \n",
    "  time <- exp(2 + x1 + x2 + x3 + e)\n",
    "  \n",
    "  if(censor == -1) cen <- rep(10^4,n)\n",
    "  else  cen <- runif(n, 0, censor)\n",
    "  \n",
    "  # Return the data frame with observed time, censoring status, covariates, and ID\n",
    "  data.frame(Time = pmin(time, cen), status = 1 * (time <= cen), x1 = x1, x2 = x2, x3 =x3, id = 1:n, error = error, censor = censor)\n",
    "}"
   ]
  },
  {
   "cell_type": "code",
   "execution_count": null,
   "id": "953e4bdc-d324-40c6-818e-e64a6f410987",
   "metadata": {
    "tags": []
   },
   "outputs": [],
   "source": [
    "test_data <- datgen_model1(n=400,error=\"normal\",censor=30)"
   ]
  },
  {
   "cell_type": "code",
   "execution_count": null,
   "id": "0f189b2c-f243-4829-9a5c-65cb6cb31008",
   "metadata": {
    "tags": []
   },
   "outputs": [],
   "source": [
    "time_taken <- system.time({\n",
    "f <- aftsem(Surv(log(test_data$Time), test_data$status) ~ test_data$x1 + test_data$x2 + test_data$x3, method = \"gehan\",resample = 1000)\n",
    "})"
   ]
  },
  {
   "cell_type": "code",
   "execution_count": null,
   "id": "07fc0b51-d15a-4706-a88d-9be3f0ae19b3",
   "metadata": {
    "tags": []
   },
   "outputs": [],
   "source": [
    "time_taken"
   ]
  },
  {
   "cell_type": "markdown",
   "id": "625a53e0-8199-4740-8756-98ec91c93256",
   "metadata": {},
   "source": [
    "## Create seed file"
   ]
  },
  {
   "cell_type": "code",
   "execution_count": null,
   "id": "df8b8bc8-7013-45f7-bf3e-8a2adbcfa889",
   "metadata": {
    "tags": []
   },
   "outputs": [],
   "source": [
    "#set.seed(54)\n",
    "#write(sample(1:10000000,size=1000),file=\"seeds.txt\",ncolumns=1)"
   ]
  },
  {
   "cell_type": "code",
   "execution_count": null,
   "id": "8d41e52e-9c08-4af5-a1c4-65acb37d395a",
   "metadata": {
    "tags": []
   },
   "outputs": [],
   "source": [
    "seeds<-read.table(\"seeds.txt\",header=F)$V1"
   ]
  },
  {
   "cell_type": "code",
   "execution_count": null,
   "id": "65784fee-f7dd-4da1-ad75-02236993aab5",
   "metadata": {
    "tags": []
   },
   "outputs": [],
   "source": [
    "true_coefficients <- c(1,1,1)"
   ]
  },
  {
   "cell_type": "markdown",
   "id": "a7067eaa-3618-4d2b-848f-47fe7cfd6b87",
   "metadata": {},
   "source": [
    "## Simulation Config"
   ]
  },
  {
   "cell_type": "code",
   "execution_count": null,
   "id": "b20c54bd-f2d7-437a-a17b-77eb04466103",
   "metadata": {
    "tags": []
   },
   "outputs": [],
   "source": [
    "error_types <- c(\"normal\",\"extreme\",\"logistic\")\n",
    "methods <- c(\"gehan\", \"gehan-poly\", \"gehan-heller\",\"jin\")\n",
    "censoring <- c(0,25,50,90)"
   ]
  },
  {
   "cell_type": "markdown",
   "id": "a7a1350a-c4fb-4e9b-854d-87e2e38575b0",
   "metadata": {},
   "source": [
    "### Bias, MSE and avg Time simulation study on all methods"
   ]
  },
  {
   "cell_type": "code",
   "execution_count": null,
   "id": "03833c08-7720-437e-9360-a6c1b65de829",
   "metadata": {},
   "outputs": [],
   "source": [
    "run_sim <- function(n_simulations, sample_size)\n",
    "{ \n",
    "    time_results <- list()\n",
    "    results <- list()\n",
    "    estimates_sim <- list()\n",
    "    fe_results <- list()\n",
    "    n_simulations <- n_simulations\n",
    "    sample_size <- sample_size\n",
    "    for (error in error_types)\n",
    "    {\n",
    "      for (censor in censoring)\n",
    "          {\n",
    "              for (method in methods)\n",
    "              { \n",
    "                estimates <- matrix(NA, nrow = n_simulations, ncol = length(true_coefficients))\n",
    "                times <- numeric(n_simulations) # To store elapsed time\n",
    "                fe_calls <- numeric(n_simulations) # To store function calls  \n",
    "\n",
    "                for (i in 1:n_simulations)\n",
    "                {\n",
    "                  # Generate data\n",
    "                  set.seed(seeds[i])\n",
    "\n",
    "                  censorNEW <- NaN\n",
    "                  \n",
    "                  if(censor == 0) {censorNEW <- -1}\n",
    "                  if(censor == 25){censorNEW <- 100}\n",
    "                  if(censor == 50) {censorNEW <- 30}\n",
    "                  if(censor == 90) {censorNEW <- 3}\n",
    "\n",
    "                  data <- datgen_model1(n = sample_size, error = error, censor = censorNEW)\n",
    "\n",
    "                  # Measure time of model fitting\n",
    "                  time_taken <- system.time({\n",
    "                    fit <- aftsem(Surv(log(data$Time), data$status) ~ data$x1 + data$x2 + data$x3, method = method)\n",
    "                    # Adjust this line based on how you extract estimates\n",
    "                    estimates[i, ] <- c(fit$beta)\n",
    "                    if(method %in% c(\"gehan-heller\",\"gehan-poly\")) fe_calls[i] <- fit$fe  \n",
    "                  })\n",
    "\n",
    "                  # Store elapsed time\n",
    "                  times[i] <- time_taken[3]\n",
    "                }\n",
    "\n",
    "                # Calculate bias, MSE, and average time\n",
    "                bias <- colMeans(estimates) - true_coefficients\n",
    "                mse <- colMeans((estimates - true_coefficients)^2)\n",
    "                avg_fe_calls <- mean(fe_calls)\n",
    "                avg_time <- mean(times)\n",
    "\n",
    "                # Store results, including time\n",
    "                results[[paste(error, method, censor, sep = \"_\")]] <- list(bias = bias, mse = mse)\n",
    "                time_results[[paste(error, method, censor, sep = \"_\")]] <- avg_time\n",
    "                fe_results[[paste(error, method, censor, sep = \"_\")]] <- avg_fe_calls\n",
    "                estimates_sim[[paste(error, method, censor, sep = \"_\")]] <- estimates\n",
    "              }\n",
    "        }\n",
    "    }\n",
    "    # save our simulations\n",
    "    saveRDS(time_results, paste(\"time_results\", sample_size,\"2\", \".rds\", sep = \"_\"))\n",
    "    saveRDS(results, paste(\"results\",sample_size,\"2\",\".rds\", sep = \"_\"))\n",
    "    saveRDS(estimates_sim, paste(\"estimates_sim\",sample_size,\"2\",\".rds\", sep = \"_\"))\n",
    "    saveRDS(fe_results, paste(\"fe_results\",sample_size,\"2\",\".rds\",sep = \"_\"))\n",
    "}    "
   ]
  },
  {
   "cell_type": "code",
   "execution_count": null,
   "id": "e5c3440a-8d30-4dc8-904a-8a295cfb02dd",
   "metadata": {
    "tags": []
   },
   "outputs": [],
   "source": [
    "run_sim(n_simulations = 1000, sample_size = 50)"
   ]
  },
  {
   "cell_type": "markdown",
   "id": "e57ef399-2237-4104-b352-7196f1743977",
   "metadata": {},
   "source": [
    "### See the results"
   ]
  },
  {
   "cell_type": "code",
   "execution_count": null,
   "id": "7ffb1d5e-d549-4f3f-9739-0f84be6e2261",
   "metadata": {
    "tags": []
   },
   "outputs": [],
   "source": [
    "summary_df <- do.call(rbind, lapply(names(results), function(name) {\n",
    "  data.frame(\n",
    "    Scenario = name,\n",
    "    Bias = results[[name]]$bias,\n",
    "    MSE = results[[name]]$mse,\n",
    "    Avg_Time = time_results[[name]]\n",
    "  )\n",
    "}))"
   ]
  },
  {
   "cell_type": "code",
   "execution_count": null,
   "id": "09cbf669-e4d1-41e1-ad03-b81c0e33190d",
   "metadata": {
    "tags": []
   },
   "outputs": [],
   "source": [
    "options(repr.matrix.max.rows = 150, repr.matrix.max.cols = 10)\n",
    "display(summary_df)"
   ]
  },
  {
   "cell_type": "code",
   "execution_count": null,
   "id": "16e37b92-270d-4553-9501-7d1144d31cd8",
   "metadata": {
    "tags": []
   },
   "outputs": [],
   "source": [
    "summary_df$scenario_category <- with(summary_df, paste0(sub(\"_.+$\", \"\", Scenario), \"_\", sub(\".+_\", \"\", Scenario)))"
   ]
  },
  {
   "cell_type": "code",
   "execution_count": null,
   "id": "0274bb26-f5c8-44af-8c4f-199ad352af08",
   "metadata": {
    "tags": []
   },
   "outputs": [],
   "source": [
    "normal_0_df <- summary_df[summary_df$scenario_category == \"normal_0\",]\n",
    "normal_25_df <- summary_df[summary_df$scenario_category == \"normal_25\",]\n",
    "normal_50_df <- summary_df[summary_df$scenario_category == \"normal_50\",]\n",
    "normal_90_df <- summary_df[summary_df$scenario_category == \"normal_90\",]\n",
    "\n",
    "extreme_0_df <- summary_df[summary_df$scenario_category == \"extreme_0\",]\n",
    "extreme_25_df <- summary_df[summary_df$scenario_category == \"extreme_25\",]\n",
    "extreme_50_df <- summary_df[summary_df$scenario_category == \"extreme_50\",]\n",
    "extreme_90_df <- summary_df[summary_df$scenario_category == \"extreme_90\",]\n",
    "\n",
    "logistic_0_df <- summary_df[summary_df$scenario_category == \"logistic_0\",]\n",
    "logistic_25_df <- summary_df[summary_df$scenario_category == \"logistic_25\",]\n",
    "logistic_50_df <- summary_df[summary_df$scenario_category == \"logistic_50\",]\n",
    "logistic_90_df <- summary_df[summary_df$scenario_category == \"logistic_90\",]"
   ]
  },
  {
   "cell_type": "code",
   "execution_count": null,
   "id": "5b5c9fcb-4529-4790-b7a7-183f664d6ae1",
   "metadata": {
    "tags": []
   },
   "outputs": [],
   "source": [
    "indices <- seq(1, nrow(df)/3, by = 3)"
   ]
  },
  {
   "cell_type": "markdown",
   "id": "4e649f41-174e-46ab-a5b6-01615cbcbdd1",
   "metadata": {},
   "source": [
    "### Plot our results"
   ]
  },
  {
   "cell_type": "code",
   "execution_count": null,
   "id": "77f81360-1197-4aec-869e-6643e91f0fed",
   "metadata": {
    "tags": []
   },
   "outputs": [],
   "source": [
    "plot_estimates <- function(estimates, column_number, percent_censoring, distribution_name) {\n",
    "  \n",
    "  gehan_key <- paste(distribution_name, \"gehan\", percent_censoring, sep = \"_\")\n",
    "  gehan_heller_key <- paste(distribution_name, \"gehan-heller\", percent_censoring, sep = \"_\")\n",
    "  gehan_poly_key <- paste(distribution_name, \"gehan-poly\", percent_censoring, sep = \"_\")\n",
    "  jin_key <-   paste(distribution_name, \"jin\", percent_censoring, sep = \"_\")\n",
    "  \n",
    "  \n",
    "  gehan_data <- estimates[[gehan_key]][, column_number]\n",
    "  gehan_heller_data <- estimates[[gehan_heller_key]][, column_number]\n",
    "  gehan_poly_data <- estimates[[gehan_poly_key]][, column_number]\n",
    "  jin_data <- estimates[[jin_key]][,column_number]  \n",
    "  \n",
    "  # First plot: Gehan vs. Gehan-Heller\n",
    "  df_gehan_heller <- data.frame(Gehan = gehan_data, GehanHeller = gehan_heller_data)\n",
    "  p1 <- ggplot(df_gehan_heller, aes(x = GehanHeller, y = Gehan)) +\n",
    "    geom_point(alpha = 0.5) +\n",
    "    geom_abline(intercept = 0, slope = 1, linetype = \"dashed\", color = \"red\") +\n",
    "    xlab(\"Gehan-Heller\") +\n",
    "    ylab(\"Gehan\") +\n",
    "    ggtitle(paste(\"Gehan vs. Gehan-Heller\", \n",
    "                  \"(Cenzorovani:\", percent_censoring, \"%,\", distribution_name, \")\"))\n",
    "  \n",
    "  # Second plot: Gehan vs. Gehan-Poly\n",
    "  df_gehan_poly <- data.frame(Gehan = gehan_data, GehanPoly = gehan_poly_data)\n",
    "  p2 <- ggplot(df_gehan_poly, aes(x = GehanPoly, y = Gehan)) +\n",
    "    geom_point(alpha = 0.5) +\n",
    "    geom_abline(intercept = 0, slope = 1, linetype = \"dashed\", color = \"red\") +\n",
    "    xlab(\"Gehan-Poly\") +\n",
    "    ylab(\"Gehan\") +\n",
    "    ggtitle(paste(\"Gehan vs. Gehan-Poly\", \n",
    "                  \"(Cenzorovani:\", percent_censoring, \"%,\", distribution_name, \")\"))\n",
    "    \n",
    "  df_jin <- data.frame(Gehan = gehan_data, Jin = jin_data)   \n",
    "  p3 <- ggplot(df_gehan_poly, aes(x = GehanPoly, y = Gehan)) +\n",
    "    geom_point(alpha = 0.5) +\n",
    "    geom_abline(intercept = 0, slope = 1, linetype = \"dashed\", color = \"red\") +\n",
    "    xlab(\"Jin\") +\n",
    "    ylab(\"Gehan\") +\n",
    "    ggtitle(paste(\"Gehan vs. Jin\", \n",
    "                  \"(Cenzorovani:\", percent_censoring, \"%,\", distribution_name, \")\"))\n",
    " \n",
    "    \n",
    "    \n",
    "  ggsave(filename = paste0(\"plot_Gehan_vs_Gehan-Heller_4\", distribution_name, \"_\", percent_censoring, \".png\"), plot = p1)\n",
    "  ggsave(filename = paste0(\"plot_Gehan_vs_Gehan-Poly_4\", distribution_name, \"_\", percent_censoring, \".png\"), plot = p2)\n",
    "  ggsave(filename = paste0(\"plot_Gehan_vs_Gehan vs. Jin_4\", distribution_name, \"_\", percent_censoring, \".png\"), plot = p3)\n",
    "  print(p1)\n",
    "  print(p2)\n",
    "  print(p3)\n",
    "}\n",
    "\n",
    "\n",
    "plot_estimates(estimates, 2, 50, 'normal')\n"
   ]
  },
  {
   "cell_type": "code",
   "execution_count": null,
   "id": "7615a276-7c9d-439f-967d-59fa83a803e0",
   "metadata": {
    "tags": []
   },
   "outputs": [],
   "source": [
    "time_results"
   ]
  },
  {
   "cell_type": "code",
   "execution_count": null,
   "id": "74dafbe5-232a-40e1-ac1f-cb75f0f46af9",
   "metadata": {
    "tags": []
   },
   "outputs": [],
   "source": [
    "plot_time <- function(data_list)\n",
    "{    \n",
    "    data <- enframe(data_list, name = \"metric\", value = \"value\") %>%\n",
    "    mutate(\n",
    "        metric = as.character(metric),\n",
    "        distribution = gsub(\"([a-z]+)_.*\", \"\\\\1\", metric),\n",
    "        method = gsub(\"[a-z]+_(.*?)(_\\\\d+)?$\", \"\\\\1\", metric),\n",
    "        percent_censoring = as.numeric(gsub(\".*_(\\\\d+)$\", \"\\\\1\", metric)),\n",
    "        value = as.numeric(unlist(value))\n",
    "    ) %>%\n",
    "    select(distribution, method, percent_censoring, value)\n",
    "    \n",
    "    print(data)\n",
    "\n",
    "    p1 <- ggplot(data, aes(x = percent_censoring, y = value, color = distribution, shape = method)) +\n",
    "    geom_point(size = 3, alpha = 0.6) +  # Using alpha for better visualization of overlapping points\n",
    "    labs(\n",
    "        title = \"Scatter Plot časových výsledků\",\n",
    "        x = \"Míra Cenzorování\",\n",
    "        y = \"Čas\",\n",
    "        color = \"Rozdělení dat\",\n",
    "        shape = \"Metoda\"\n",
    "    ) +\n",
    "    theme_minimal() +\n",
    "    scale_color_brewer(palette = \"Set1\") +  # Color palette for better distinction\n",
    "    theme(\n",
    "        legend.position = \"right\",\n",
    "        legend.title = element_text(size = 12),\n",
    "        legend.text = element_text(size = 10)\n",
    "    )\n",
    "    ggsave(filename = paste0(\"Time_result_400\", \".png\"), plot = p1)\n",
    "}"
   ]
  },
  {
   "cell_type": "code",
   "execution_count": null,
   "id": "8b6742d9-911e-4ae1-ba54-b8b15e1c4047",
   "metadata": {
    "tags": []
   },
   "outputs": [],
   "source": [
    "results <- readRDS(\"results_100_.rds\")\n",
    "time_results <- readRDS(\"time_results_100_.rds\")\n",
    "estimates <- readRDS(\"estimates_sim_100_.rds\")"
   ]
  },
  {
   "cell_type": "code",
   "execution_count": null,
   "id": "889e08a0-3364-4a45-a841-44d7ec628f50",
   "metadata": {
    "tags": []
   },
   "outputs": [],
   "source": [
    "plot_time(time_results)"
   ]
  },
  {
   "cell_type": "code",
   "execution_count": null,
   "id": "959fe504-fde4-44c6-b8d0-6dec764ef62b",
   "metadata": {},
   "outputs": [],
   "source": []
  },
  {
   "cell_type": "markdown",
   "id": "ce5e481d-81db-4e65-acef-78cd22ffa5d7",
   "metadata": {},
   "source": [
    "### New simulation config"
   ]
  },
  {
   "cell_type": "code",
   "execution_count": null,
   "id": "0054c57f-9b10-40ac-9b0e-5ad4d521662c",
   "metadata": {
    "tags": []
   },
   "outputs": [],
   "source": [
    "true_coefficients <- c(1,1,1)\n",
    "error_types <- c(\"normal\")\n",
    "methods <- c(\"gehan-poly\", \"gehan-heller\")\n",
    "censoring <- c(25,50,90)"
   ]
  },
  {
   "cell_type": "markdown",
   "id": "1e512e08-ec99-48f1-b428-e6e292fa6ec8",
   "metadata": {},
   "source": [
    "### Different optimalization algorithms simulation"
   ]
  },
  {
   "cell_type": "code",
   "execution_count": null,
   "id": "24033de9-da8a-4cfa-a5a4-cd9c896712ff",
   "metadata": {},
   "outputs": [],
   "source": [
    "run_simulation_for_gehans <- function(n_simulations, sample_size, alg)\n",
    "{\n",
    "    time_results <- list()\n",
    "    results <- list()\n",
    "    estimates_sim <- list()\n",
    "    fe_results <- list()\n",
    "    convergence <- list()\n",
    "    n_simulations <- n_simulations\n",
    "    sample_size <- sample_size\n",
    "    for (error in error_types)\n",
    "    {\n",
    "      for (censor in censoring)\n",
    "          {\n",
    "              for (method in methods)\n",
    "              { \n",
    "                estimates <- matrix(NA, nrow = n_simulations, ncol = length(true_coefficients))\n",
    "                times <- numeric(n_simulations) # To store elapsed time\n",
    "                fe_calls <- numeric(n_simulations) # To store function calls  \n",
    "                convergence_calls <- numeric(n_simulations)\n",
    "\n",
    "                for (i in 1:n_simulations)\n",
    "                {\n",
    "                  # Generate data\n",
    "                  set.seed(seeds[i])\n",
    "\n",
    "                  censorNEW <- NaN\n",
    "                  \n",
    "                  if(censor == 0) {censorNEW <- -1}\n",
    "                  if(censor == 25){censorNEW <- 100}\n",
    "                  if(censor == 50) {censorNEW <- 30}\n",
    "                  if(censor == 90) {censorNEW <- 3}\n",
    "\n",
    "                  data <- datgen_model1(n = sample_size, error = error, censor = censorNEW)\n",
    "\n",
    "                  # Measure time of model fitting\n",
    "                  time_taken <- system.time({\n",
    "                    fit <- aftsem(Surv(log(data$Time), data$status) ~ data$x1 + data$x2 + data$x3, method = method, control = list(use.grad = FALSE, optimx.alg = alg,variance.estimation = FALSE, gehan_eps = 10^-6))\n",
    "                    # Adjust this line based on how you extract estimates\n",
    "                    estimates[i, ] <- c(fit$beta)\n",
    "                    fe_calls[i] <- fit$fe\n",
    "                    convergence_calls[i] <- fit$converged\n",
    "                  })\n",
    "\n",
    "                  # Store elapsed time\n",
    "                  times[i] <- time_taken[3]\n",
    "                }\n",
    "\n",
    "                # Calculate bias, MSE, and average time\n",
    "                bias <- colMeans(estimates) - true_coefficients\n",
    "                mse <- colMeans((estimates - true_coefficients)^2)\n",
    "                avg_fe_calls <- mean(fe_calls)\n",
    "                avg_time <- mean(times)\n",
    "                succesive_convergence <- sum(convergence_calls[convergence_calls == TRUE])\n",
    "\n",
    "                # Store results, including time\n",
    "                results[[paste(error, method, censor, sep = \"_\")]] <- list(bias = bias, mse = mse)\n",
    "                time_results[[paste(error, method, censor, sep = \"_\")]] <- avg_time\n",
    "                fe_results[[paste(error, method, censor, sep = \"_\")]] <- avg_fe_calls\n",
    "                estimates_sim[[paste(error, method, censor, sep = \"_\")]] <- estimates\n",
    "                convergence[[paste(error, method, censor, sep = \"_\")]] <- succesive_convergence\n",
    "              }\n",
    "        }\n",
    "    }\n",
    "    saveRDS(time_results, paste(\"time_results\",alg,sample_size, \".rds\", sep = \"_\"))\n",
    "    saveRDS(results, paste(\"results\",alg,sample_size,\".rds\", sep = \"_\"))\n",
    "    saveRDS(estimates_sim, paste(\"estimates_sim\",alg,sample_size,\".rds\", sep = \"_\"))\n",
    "    saveRDS(fe_results, paste(\"fe_results\",alg,sample_size,\".rds\",sep = \"_\"))\n",
    "}"
   ]
  },
  {
   "cell_type": "code",
   "execution_count": null,
   "id": "99640185-6660-45d5-bdab-cf801f99b9f7",
   "metadata": {
    "tags": []
   },
   "outputs": [],
   "source": [
    "run_simulation_for_gehans(10,800,\"L-BFGS\")"
   ]
  },
  {
   "cell_type": "code",
   "execution_count": null,
   "id": "a258c947-4e07-4dbb-8596-1387e7677942",
   "metadata": {
    "tags": []
   },
   "outputs": [],
   "source": [
    "tr <- readRDS(\"time_results_Nelder-Mead_800_.rds\")\n",
    "r <- readRDS(\"results_Nelder-Mead_800_.rds\")\n",
    "es <- readRDS(\"estimates_sim_BFGS_400_.rds\")\n",
    "fe_r <- readRDS(\"fe_results_L-BFGS_400_.rds\")"
   ]
  },
  {
   "cell_type": "code",
   "execution_count": null,
   "id": "c967669a-ab73-49c5-b1f1-8b32e17a2023",
   "metadata": {
    "tags": []
   },
   "outputs": [],
   "source": [
    "summary_df <- do.call(rbind, lapply(names(r), function(name) {\n",
    "  data.frame(\n",
    "    Scenario = name,\n",
    "    Bias = r[[name]]$bias,\n",
    "    MSE = r[[name]]$mse,\n",
    "    Avg_Time = tr[[name]]\n",
    "  )\n",
    "}))"
   ]
  },
  {
   "cell_type": "code",
   "execution_count": null,
   "id": "253d77e2-5293-48a4-acfb-f421b1ffd0d6",
   "metadata": {
    "tags": []
   },
   "outputs": [],
   "source": [
    "summary_df"
   ]
  },
  {
   "cell_type": "code",
   "execution_count": null,
   "id": "511a3539-81bd-4cf7-80f2-8139556f5dcf",
   "metadata": {
    "tags": []
   },
   "outputs": [],
   "source": [
    "d"
   ]
  },
  {
   "cell_type": "code",
   "execution_count": null,
   "id": "811e815f-e10b-4274-950d-757f9b0aeeda",
   "metadata": {
    "tags": []
   },
   "outputs": [],
   "source": [
    "bb = c(\"zero\",\"gehan\",\"lm\")\n",
    "censoring <- c(25,50,90)\n",
    "error_types <- c(\"normal\",\"extreme\",\"logistic\")\n",
    "methods <- c(\"gehan-poly\", \"gehan-heller\")"
   ]
  },
  {
   "cell_type": "code",
   "execution_count": null,
   "id": "27d09bf9-bfd5-4a1b-838e-14b58a02d36b",
   "metadata": {
    "tags": []
   },
   "outputs": [],
   "source": [
    "run_simulations_for_binit <- function(n_simulations, sample_size)\n",
    "{\n",
    "    time_results <- list()\n",
    "    results <- list()\n",
    "    estimates_sim <- list()\n",
    "    fe_results <- list()\n",
    "    convergence <- list()\n",
    "    n_simulations <- n_simulations\n",
    "    sample_size <- sample_size\n",
    "    for (error in error_types)\n",
    "    {\n",
    "      for (censor in censoring)\n",
    "          {\n",
    "              for (method in methods)\n",
    "              {\n",
    "                \n",
    "                for (b in bb)\n",
    "                {\n",
    "                    estimates <- matrix(NA, nrow = n_simulations, ncol = length(true_coefficients))\n",
    "                    times <- numeric(n_simulations) # To store elapsed time\n",
    "                    fe_calls <- numeric(n_simulations) # To store function calls  \n",
    "                    convergence_calls <- numeric(n_simulations)\n",
    "\n",
    "                    for (i in 1:n_simulations)\n",
    "                    {\n",
    "                      # Generate data\n",
    "                      set.seed(seeds[i])\n",
    "\n",
    "                      censorNEW <- NaN\n",
    "                  \n",
    "                      if(censor == 0) {censorNEW <- -1}\n",
    "                      if(censor == 25){censorNEW <- 100}\n",
    "                      if(censor == 50) {censorNEW <- 30}\n",
    "                      if(censor == 90) {censorNEW <- 3}\n",
    "\n",
    "                      data <- datgen_model1(n = sample_size, error = error, censor = censorNEW)\n",
    "                      binit_value <- b  \n",
    "                      if (binit_value == \"zero\")\n",
    "                      {\n",
    "                          binit_value = rep(0,3)\n",
    "                      }\n",
    "\n",
    "                      # Measure time of model fitting\n",
    "                      time_taken <- system.time({\n",
    "                        fit <- aftsem(Surv(log(data$Time), data$status) ~ data$x1 + data$x2 + data$x3, method = method, binit = binit_value, control = list(use.grad = FALSE, optimx.alg = \"BFGS\",variance.estimation = FALSE, gehan_eps = 10^-6))\n",
    "                        # Adjust this line based on how you extract estimates\n",
    "                        estimates[i, ] <- c(fit$beta)\n",
    "                        fe_calls[i] <- fit$fe\n",
    "                        convergence_calls[i] <- fit$converged\n",
    "                      })\n",
    "\n",
    "                      # Store elapsed time\n",
    "                      times[i] <- time_taken[3]\n",
    "                  \n",
    "                    }\n",
    "\n",
    "                # Calculate bias, MSE, and average time\n",
    "                bias <- colMeans(estimates) - true_coefficients\n",
    "                mse <- colMeans((estimates - true_coefficients)^2)\n",
    "                avg_fe_calls <- mean(fe_calls)\n",
    "                avg_time <- mean(times)\n",
    "                succesive_convergence <- sum(convergence_calls[convergence_calls == TRUE])\n",
    "\n",
    "                # Store results, including time\n",
    "                results[[paste(error, method, censor, b, sep = \"_\")]] <- list(bias = bias, mse = mse)\n",
    "                time_results[[paste(error, method, censor, b, sep = \"_\")]] <- avg_time\n",
    "                fe_results[[paste(error, method, censor, b, sep = \"_\")]] <- avg_fe_calls\n",
    "                estimates_sim[[paste(error, method, censor, b, sep = \"_\")]] <- estimates\n",
    "                convergence[[paste(error, method, censor, b, sep = \"_\")]] <- succesive_convergence\n",
    "              }\n",
    "            }\n",
    "        }\n",
    "    }\n",
    "    saveRDS(time_results, paste(\"time_results\",\"binit\", \".rds\", sep = \"_\"))\n",
    "    saveRDS(results, paste(\"results\",\"binit\",\".rds\", sep = \"_\"))\n",
    "    saveRDS(estimates_sim, paste(\"estimates_sim\",\"binit\",\".rds\", sep = \"_\"))\n",
    "    saveRDS(fe_results, paste(\"fe_results\",\"binit\",\".rds\",sep = \"_\"))\n",
    "}\n",
    "\n",
    "run_simulations_for_binit(n_simulations = 100,sample_size = 100)"
   ]
  },
  {
   "cell_type": "code",
   "execution_count": null,
   "id": "67692302-dd47-4109-9682-4b5f27334be6",
   "metadata": {
    "tags": []
   },
   "outputs": [],
   "source": [
    "rrr <- readRDS(\"results_binit_.rds\")\n",
    "ttt <- readRDS(\"time_results_binit_.rds\")"
   ]
  },
  {
   "cell_type": "code",
   "execution_count": null,
   "id": "0d9aa0f0-adef-44de-a712-dd2fd3239000",
   "metadata": {},
   "outputs": [],
   "source": [
    "summary_df <- do.call(rbind, lapply(names(rrr), function(name) {\n",
    "  data.frame(\n",
    "    Scenario = name,\n",
    "    Bias = rrr[[name]]$bias,\n",
    "    MSE = rrr[[name]]$mse,\n",
    "    Avg_Time = ttt[[name]]\n",
    "  )\n",
    "}))"
   ]
  },
  {
   "cell_type": "code",
   "execution_count": null,
   "id": "f6f90d1f-3da2-4af6-a2ff-d1ec460d5bc2",
   "metadata": {
    "tags": []
   },
   "outputs": [],
   "source": [
    "options(repr.matrix.max.rows = 150, repr.matrix.max.cols = 10)\n",
    "display(summary_df)"
   ]
  },
  {
   "cell_type": "code",
   "execution_count": null,
   "id": "8a6c1e49-6e39-4565-9a65-3219cde4d7bd",
   "metadata": {},
   "outputs": [],
   "source": []
  }
 ],
 "metadata": {
  "kernelspec": {
   "display_name": "R",
   "language": "R",
   "name": "ir"
  },
  "language_info": {
   "codemirror_mode": "r",
   "file_extension": ".r",
   "mimetype": "text/x-r-source",
   "name": "R",
   "pygments_lexer": "r",
   "version": "4.4.0"
  }
 },
 "nbformat": 4,
 "nbformat_minor": 5
}
