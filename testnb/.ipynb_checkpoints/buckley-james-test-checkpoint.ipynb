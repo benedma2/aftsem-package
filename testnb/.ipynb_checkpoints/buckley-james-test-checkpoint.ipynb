{
 "cells": [
  {
   "cell_type": "code",
   "execution_count": 1,
   "id": "762ffa8e-fa7a-4883-a8d5-d56b812c4dc8",
   "metadata": {},
   "outputs": [],
   "source": [
    "library(survival)\n",
    "library(aftsem)"
   ]
  },
  {
   "cell_type": "code",
   "execution_count": 2,
   "id": "9dd54d7c-9db8-4bb8-bab5-2a47847c3b02",
   "metadata": {},
   "outputs": [],
   "source": [
    "load(\"/home/benedma/R/aftsem/testdata/stan.RData\")"
   ]
  },
  {
   "cell_type": "code",
   "execution_count": 3,
   "id": "fc63a05e-1367-41e7-afea-14681470561d",
   "metadata": {},
   "outputs": [
    {
     "data": {
      "text/html": [
       "<table class=\"dataframe\">\n",
       "<caption>A data.frame: 6 × 5</caption>\n",
       "<thead>\n",
       "\t<tr><th></th><th scope=col>id</th><th scope=col>time</th><th scope=col>status</th><th scope=col>age</th><th scope=col>t5</th></tr>\n",
       "\t<tr><th></th><th scope=col>&lt;int&gt;</th><th scope=col>&lt;int&gt;</th><th scope=col>&lt;int&gt;</th><th scope=col>&lt;int&gt;</th><th scope=col>&lt;dbl&gt;</th></tr>\n",
       "</thead>\n",
       "<tbody>\n",
       "\t<tr><th scope=row>1</th><td>1</td><td> 15</td><td>1</td><td>54</td><td>1.11</td></tr>\n",
       "\t<tr><th scope=row>2</th><td>2</td><td>  3</td><td>1</td><td>40</td><td>1.66</td></tr>\n",
       "\t<tr><th scope=row>3</th><td>3</td><td> 46</td><td>1</td><td>42</td><td>0.61</td></tr>\n",
       "\t<tr><th scope=row>4</th><td>4</td><td>623</td><td>1</td><td>51</td><td>1.32</td></tr>\n",
       "\t<tr><th scope=row>5</th><td>5</td><td>126</td><td>1</td><td>48</td><td>0.36</td></tr>\n",
       "\t<tr><th scope=row>6</th><td>6</td><td> 64</td><td>1</td><td>54</td><td>1.89</td></tr>\n",
       "</tbody>\n",
       "</table>\n"
      ],
      "text/latex": [
       "A data.frame: 6 × 5\n",
       "\\begin{tabular}{r|lllll}\n",
       "  & id & time & status & age & t5\\\\\n",
       "  & <int> & <int> & <int> & <int> & <dbl>\\\\\n",
       "\\hline\n",
       "\t1 & 1 &  15 & 1 & 54 & 1.11\\\\\n",
       "\t2 & 2 &   3 & 1 & 40 & 1.66\\\\\n",
       "\t3 & 3 &  46 & 1 & 42 & 0.61\\\\\n",
       "\t4 & 4 & 623 & 1 & 51 & 1.32\\\\\n",
       "\t5 & 5 & 126 & 1 & 48 & 0.36\\\\\n",
       "\t6 & 6 &  64 & 1 & 54 & 1.89\\\\\n",
       "\\end{tabular}\n"
      ],
      "text/markdown": [
       "\n",
       "A data.frame: 6 × 5\n",
       "\n",
       "| <!--/--> | id &lt;int&gt; | time &lt;int&gt; | status &lt;int&gt; | age &lt;int&gt; | t5 &lt;dbl&gt; |\n",
       "|---|---|---|---|---|---|\n",
       "| 1 | 1 |  15 | 1 | 54 | 1.11 |\n",
       "| 2 | 2 |   3 | 1 | 40 | 1.66 |\n",
       "| 3 | 3 |  46 | 1 | 42 | 0.61 |\n",
       "| 4 | 4 | 623 | 1 | 51 | 1.32 |\n",
       "| 5 | 5 | 126 | 1 | 48 | 0.36 |\n",
       "| 6 | 6 |  64 | 1 | 54 | 1.89 |\n",
       "\n"
      ],
      "text/plain": [
       "  id time status age t5  \n",
       "1 1   15  1      54  1.11\n",
       "2 2    3  1      40  1.66\n",
       "3 3   46  1      42  0.61\n",
       "4 4  623  1      51  1.32\n",
       "5 5  126  1      48  0.36\n",
       "6 6   64  1      54  1.89"
      ]
     },
     "metadata": {},
     "output_type": "display_data"
    }
   ],
   "source": [
    "head(stan)"
   ]
  },
  {
   "cell_type": "code",
   "execution_count": 4,
   "id": "63446c3e-d5c7-4954-807e-227ce85ffa1d",
   "metadata": {},
   "outputs": [
    {
     "name": "stderr",
     "output_type": "stream",
     "text": [
      "Warning message in aftsem(Surv(log(stan$time), stan$status) ~ stan$age, stan, binit = \"lm\"):\n",
      "“There are ties in the failure times.”\n"
     ]
    },
    {
     "data": {
      "text/plain": [
       "AFT Semiparametric Model Summary\n",
       "================================\n",
       "\n",
       "Model Call: aftsem(formula = Surv(log(stan$time), stan$status) ~ stan$age, \n",
       " Model Call:     data = stan, binit = \"lm\")\n",
       "\n",
       "Used parameter estimation method: \n",
       "[1] \"buckley\"\n",
       "\n",
       "Convergence Status: Converged\n",
       "\n",
       "Estimated Parameters:\n",
       "            [,1]\n",
       "[1,] -0.02952949\n",
       "\n",
       "Number of Iterations: 1\n",
       "Number of Observations: 157\n",
       "\n",
       "Initial Beta Estimate:\n",
       "          Z \n",
       "-0.01590403 \n",
       "\n",
       "Epsilon (Convergence Tolerance): 0.00100\n",
       "Maximum Iterations Allowed: 50\n"
      ]
     },
     "metadata": {},
     "output_type": "display_data"
    }
   ],
   "source": [
    "aftsem(Surv(log(stan$time),stan$status) ~ stan$age, stan, binit = \"lm\")"
   ]
  },
  {
   "cell_type": "code",
   "execution_count": 7,
   "id": "5e936590-051e-434a-8570-a52a13792e30",
   "metadata": {},
   "outputs": [
    {
     "name": "stderr",
     "output_type": "stream",
     "text": [
      "Warning message in aftsem(Surv(log(stan$time), stan$status) ~ stan$age + stan$t5, :\n",
      "“There are ties in the failure times.”\n"
     ]
    },
    {
     "data": {
      "text/plain": [
       "AFT Semiparametric Model Summary\n",
       "================================\n",
       "\n",
       "Model Call: aftsem(formula = Surv(log(stan$time), stan$status) ~ stan$age + \n",
       " Model Call:     stan$t5, data = stan, binit = \"lm\")\n",
       "\n",
       "Used parameter estimation method: \n",
       "[1] \"buckley\"\n",
       "\n",
       "Convergence Status: Converged\n",
       "\n",
       "Estimated Parameters:\n",
       "            [,1]\n",
       "[1,] -0.02928630\n",
       "[2,] -0.02510136\n",
       "\n",
       "Number of Iterations: 1\n",
       "Number of Observations: 157\n",
       "\n",
       "Initial Beta Estimate:\n",
       "  Zstan$age    Zstan$t5 \n",
       "-0.01544656 -0.07792793 \n",
       "\n",
       "Epsilon (Convergence Tolerance): 0.00100\n",
       "Maximum Iterations Allowed: 50\n"
      ]
     },
     "metadata": {},
     "output_type": "display_data"
    }
   ],
   "source": [
    "aftsem(Surv(log(stan$time),stan$status) ~ stan$age + stan$t5, stan, binit = \"lm\")"
   ]
  },
  {
   "cell_type": "code",
   "execution_count": 8,
   "id": "87dc200a-3b44-4ad0-9d69-7f5d6e274dcc",
   "metadata": {},
   "outputs": [
    {
     "name": "stderr",
     "output_type": "stream",
     "text": [
      "Loading required package: rms\n",
      "\n",
      "Loading required package: Hmisc\n",
      "\n",
      "\n",
      "Attaching package: ‘Hmisc’\n",
      "\n",
      "\n",
      "The following objects are masked from ‘package:base’:\n",
      "\n",
      "    format.pval, units\n",
      "\n",
      "\n",
      "Loading required package: mgcv\n",
      "\n",
      "Loading required package: nlme\n",
      "\n",
      "This is mgcv 1.8-41. For overview type 'help(\"mgcv-package\")'.\n",
      "\n"
     ]
    }
   ],
   "source": [
    "library(coxed)"
   ]
  },
  {
   "cell_type": "code",
   "execution_count": 26,
   "id": "36c588f8-e2a9-46ee-ab92-4684f1eba043",
   "metadata": {},
   "outputs": [
    {
     "data": {
      "text/html": [
       "<table class=\"dataframe\">\n",
       "<caption>A data.frame: 6 × 4</caption>\n",
       "<thead>\n",
       "\t<tr><th></th><th scope=col>survival_time</th><th scope=col>event</th><th scope=col>covariate1</th><th scope=col>covariate2</th></tr>\n",
       "\t<tr><th></th><th scope=col>&lt;dbl&gt;</th><th scope=col>&lt;lgl&gt;</th><th scope=col>&lt;dbl&gt;</th><th scope=col>&lt;dbl&gt;</th></tr>\n",
       "</thead>\n",
       "<tbody>\n",
       "\t<tr><th scope=row>1</th><td>0.3041144</td><td>FALSE</td><td>-0.15189000</td><td>-0.6464351</td></tr>\n",
       "\t<tr><th scope=row>2</th><td>0.0535784</td><td> TRUE</td><td>-1.18666415</td><td> 2.3806063</td></tr>\n",
       "\t<tr><th scope=row>3</th><td>0.8743605</td><td> TRUE</td><td> 1.69475183</td><td>-0.2692568</td></tr>\n",
       "\t<tr><th scope=row>4</th><td>0.8504992</td><td> TRUE</td><td> 0.35180726</td><td>-0.2320888</td></tr>\n",
       "\t<tr><th scope=row>5</th><td>0.5252775</td><td> TRUE</td><td>-0.07394136</td><td> 0.6207457</td></tr>\n",
       "\t<tr><th scope=row>6</th><td>0.1485477</td><td> TRUE</td><td>-0.05709306</td><td>-0.3363797</td></tr>\n",
       "</tbody>\n",
       "</table>\n"
      ],
      "text/latex": [
       "A data.frame: 6 × 4\n",
       "\\begin{tabular}{r|llll}\n",
       "  & survival\\_time & event & covariate1 & covariate2\\\\\n",
       "  & <dbl> & <lgl> & <dbl> & <dbl>\\\\\n",
       "\\hline\n",
       "\t1 & 0.3041144 & FALSE & -0.15189000 & -0.6464351\\\\\n",
       "\t2 & 0.0535784 &  TRUE & -1.18666415 &  2.3806063\\\\\n",
       "\t3 & 0.8743605 &  TRUE &  1.69475183 & -0.2692568\\\\\n",
       "\t4 & 0.8504992 &  TRUE &  0.35180726 & -0.2320888\\\\\n",
       "\t5 & 0.5252775 &  TRUE & -0.07394136 &  0.6207457\\\\\n",
       "\t6 & 0.1485477 &  TRUE & -0.05709306 & -0.3363797\\\\\n",
       "\\end{tabular}\n"
      ],
      "text/markdown": [
       "\n",
       "A data.frame: 6 × 4\n",
       "\n",
       "| <!--/--> | survival_time &lt;dbl&gt; | event &lt;lgl&gt; | covariate1 &lt;dbl&gt; | covariate2 &lt;dbl&gt; |\n",
       "|---|---|---|---|---|\n",
       "| 1 | 0.3041144 | FALSE | -0.15189000 | -0.6464351 |\n",
       "| 2 | 0.0535784 |  TRUE | -1.18666415 |  2.3806063 |\n",
       "| 3 | 0.8743605 |  TRUE |  1.69475183 | -0.2692568 |\n",
       "| 4 | 0.8504992 |  TRUE |  0.35180726 | -0.2320888 |\n",
       "| 5 | 0.5252775 |  TRUE | -0.07394136 |  0.6207457 |\n",
       "| 6 | 0.1485477 |  TRUE | -0.05709306 | -0.3363797 |\n",
       "\n"
      ],
      "text/plain": [
       "  survival_time event covariate1  covariate2\n",
       "1 0.3041144     FALSE -0.15189000 -0.6464351\n",
       "2 0.0535784      TRUE -1.18666415  2.3806063\n",
       "3 0.8743605      TRUE  1.69475183 -0.2692568\n",
       "4 0.8504992      TRUE  0.35180726 -0.2320888\n",
       "5 0.5252775      TRUE -0.07394136  0.6207457\n",
       "6 0.1485477      TRUE -0.05709306 -0.3363797"
      ]
     },
     "metadata": {},
     "output_type": "display_data"
    }
   ],
   "source": [
    "\n",
    "n <- 500\n",
    "beta1 <- 0.5\n",
    "beta2 <- -0.3 \n",
    "censoring_rate <- 0.4\n",
    "\n",
    "\n",
    "covariate1 <- rnorm(n, mean = 0, sd = 1)\n",
    "covariate2 <- rnorm(n, mean = 0, sd = 1)\n",
    "\n",
    "\n",
    "linear_pred <- beta1 * covariate1 + beta2 * covariate2 + rnorm(n, mean = 0, sd = 2)\n",
    "survival_times <- exp(linear_pred)\n",
    "\n",
    "\n",
    "censoring_times <- rexp(n, rate = -log(1 - censoring_rate))\n",
    "event <- survival_times <= censoring_times\n",
    "censored_survival_times <- pmin(survival_times, censoring_times)\n",
    "\n",
    "\n",
    "data <- data.frame(survival_time = censored_survival_times, event = event, covariate1 = covariate1, covariate2 = covariate2)\n",
    "\n",
    "\n",
    "head(data)"
   ]
  },
  {
   "cell_type": "code",
   "execution_count": 28,
   "id": "891ffbf4-e452-40ee-86bf-4ea530d49cbb",
   "metadata": {},
   "outputs": [
    {
     "data": {
      "text/plain": [
       "AFT Semiparametric Model Summary\n",
       "================================\n",
       "\n",
       "Model Call: aftsem(formula = Surv(data$survival_time, data$event) ~ data$covariate1 + \n",
       " Model Call:     data$covariate2, data = data, binit = \"lm\")\n",
       "\n",
       "Used parameter estimation method: \n",
       "[1] \"buckley\"\n",
       "\n",
       "Convergence Status: Converged\n",
       "\n",
       "Estimated Parameters:\n",
       "           [,1]\n",
       "[1,]  0.4238241\n",
       "[2,] -0.2505548\n",
       "\n",
       "Number of Iterations: 3\n",
       "Number of Observations: 500\n",
       "\n",
       "Initial Beta Estimate:\n",
       "Zdata$covariate1 Zdata$covariate2 \n",
       "       0.1379195       -0.1180468 \n",
       "\n",
       "Epsilon (Convergence Tolerance): 0.00100\n",
       "Maximum Iterations Allowed: 50\n"
      ]
     },
     "metadata": {},
     "output_type": "display_data"
    }
   ],
   "source": [
    "aftsem(Surv(data$survival_time,data$event) ~ data$covariate1 + data$covariate2, data, binit=\"lm\")"
   ]
  },
  {
   "cell_type": "code",
   "execution_count": 30,
   "id": "72cea989-2697-47e4-b273-6db5fecd2512",
   "metadata": {},
   "outputs": [],
   "source": [
    " datgen <- function(n = 100, tau = 0.3, dim = 2) {\n",
    "   x1 <- rbinom(dim * n, 1, 0.5)\n",
    "   x2 <- rnorm(dim * n)\n",
    "   e <- c(t(exp(MASS::mvrnorm(n = n, mu = rep(0, dim), Sigma = tau + (1 - tau) * diag(dim)))))\n",
    "   tt <- exp(2 + x1 + x2 + e)\n",
    "   cen <- runif(n, 0, 100)\n",
    "   data.frame(Time = pmin(tt, cen), status = 1 * (tt < cen),\n",
    "              x1 = x1, x2 = x2, id = rep(1:n, each = dim))\n",
    " }"
   ]
  },
  {
   "cell_type": "code",
   "execution_count": 31,
   "id": "02a796ad-6668-4ec0-8128-8b9264066af6",
   "metadata": {},
   "outputs": [
    {
     "data": {
      "text/html": [
       "<table class=\"dataframe\">\n",
       "<caption>A data.frame: 6 × 5</caption>\n",
       "<thead>\n",
       "\t<tr><th></th><th scope=col>Time</th><th scope=col>status</th><th scope=col>x1</th><th scope=col>x2</th><th scope=col>id</th></tr>\n",
       "\t<tr><th></th><th scope=col>&lt;dbl&gt;</th><th scope=col>&lt;dbl&gt;</th><th scope=col>&lt;int&gt;</th><th scope=col>&lt;dbl&gt;</th><th scope=col>&lt;int&gt;</th></tr>\n",
       "</thead>\n",
       "<tbody>\n",
       "\t<tr><th scope=row>1</th><td>11.801097</td><td>1</td><td>0</td><td>-0.62036668</td><td>1</td></tr>\n",
       "\t<tr><th scope=row>2</th><td>68.486090</td><td>0</td><td>0</td><td> 0.04211587</td><td>1</td></tr>\n",
       "\t<tr><th scope=row>3</th><td> 9.291650</td><td>1</td><td>1</td><td>-0.91092165</td><td>2</td></tr>\n",
       "\t<tr><th scope=row>4</th><td>88.002129</td><td>1</td><td>1</td><td> 0.15802877</td><td>2</td></tr>\n",
       "\t<tr><th scope=row>5</th><td>11.835658</td><td>0</td><td>0</td><td>-0.65458464</td><td>3</td></tr>\n",
       "\t<tr><th scope=row>6</th><td> 3.910006</td><td>0</td><td>1</td><td> 1.76728727</td><td>3</td></tr>\n",
       "</tbody>\n",
       "</table>\n"
      ],
      "text/latex": [
       "A data.frame: 6 × 5\n",
       "\\begin{tabular}{r|lllll}\n",
       "  & Time & status & x1 & x2 & id\\\\\n",
       "  & <dbl> & <dbl> & <int> & <dbl> & <int>\\\\\n",
       "\\hline\n",
       "\t1 & 11.801097 & 1 & 0 & -0.62036668 & 1\\\\\n",
       "\t2 & 68.486090 & 0 & 0 &  0.04211587 & 1\\\\\n",
       "\t3 &  9.291650 & 1 & 1 & -0.91092165 & 2\\\\\n",
       "\t4 & 88.002129 & 1 & 1 &  0.15802877 & 2\\\\\n",
       "\t5 & 11.835658 & 0 & 0 & -0.65458464 & 3\\\\\n",
       "\t6 &  3.910006 & 0 & 1 &  1.76728727 & 3\\\\\n",
       "\\end{tabular}\n"
      ],
      "text/markdown": [
       "\n",
       "A data.frame: 6 × 5\n",
       "\n",
       "| <!--/--> | Time &lt;dbl&gt; | status &lt;dbl&gt; | x1 &lt;int&gt; | x2 &lt;dbl&gt; | id &lt;int&gt; |\n",
       "|---|---|---|---|---|---|\n",
       "| 1 | 11.801097 | 1 | 0 | -0.62036668 | 1 |\n",
       "| 2 | 68.486090 | 0 | 0 |  0.04211587 | 1 |\n",
       "| 3 |  9.291650 | 1 | 1 | -0.91092165 | 2 |\n",
       "| 4 | 88.002129 | 1 | 1 |  0.15802877 | 2 |\n",
       "| 5 | 11.835658 | 0 | 0 | -0.65458464 | 3 |\n",
       "| 6 |  3.910006 | 0 | 1 |  1.76728727 | 3 |\n",
       "\n"
      ],
      "text/plain": [
       "  Time      status x1 x2          id\n",
       "1 11.801097 1      0  -0.62036668 1 \n",
       "2 68.486090 0      0   0.04211587 1 \n",
       "3  9.291650 1      1  -0.91092165 2 \n",
       "4 88.002129 1      1   0.15802877 2 \n",
       "5 11.835658 0      0  -0.65458464 3 \n",
       "6  3.910006 0      1   1.76728727 3 "
      ]
     },
     "metadata": {},
     "output_type": "display_data"
    }
   ],
   "source": [
    "set.seed(1); head(dat <- datgen(n = 100, dim = 2))"
   ]
  },
  {
   "cell_type": "code",
   "execution_count": 32,
   "id": "5163729e-a466-4205-a388-fbd7683c881a",
   "metadata": {},
   "outputs": [
    {
     "name": "stderr",
     "output_type": "stream",
     "text": [
      "Warning message in aftsem(Surv(log(dat$Time), dat$status) ~ x1 + x2, dat, binit = \"lm\"):\n",
      "“There are ties in the failure times.”\n"
     ]
    },
    {
     "data": {
      "text/plain": [
       "AFT Semiparametric Model Summary\n",
       "================================\n",
       "\n",
       "Model Call: aftsem(formula = Surv(log(dat$Time), dat$status) ~ x1 + x2, data = dat, \n",
       " Model Call:     binit = \"lm\")\n",
       "\n",
       "Used parameter estimation method: \n",
       "[1] \"buckley\"\n",
       "\n",
       "Convergence Status: Converged\n",
       "\n",
       "Estimated Parameters:\n",
       "          [,1]\n",
       "[1,] 1.0530655\n",
       "[2,] 0.9565337\n",
       "\n",
       "Number of Iterations: 9\n",
       "Number of Observations: 200\n",
       "\n",
       "Initial Beta Estimate:\n",
       "      Zx1       Zx2 \n",
       "0.4364906 0.3652350 \n",
       "\n",
       "Epsilon (Convergence Tolerance): 0.00100\n",
       "Maximum Iterations Allowed: 50\n"
      ]
     },
     "metadata": {},
     "output_type": "display_data"
    }
   ],
   "source": [
    "aftsem(Surv(log(dat$Time),dat$status) ~ x1 + x2, dat, binit = \"lm\")"
   ]
  }
 ],
 "metadata": {
  "kernelspec": {
   "display_name": "R",
   "language": "R",
   "name": "ir"
  },
  "language_info": {
   "codemirror_mode": "r",
   "file_extension": ".r",
   "mimetype": "text/x-r-source",
   "name": "R",
   "pygments_lexer": "r",
   "version": "4.2.2"
  }
 },
 "nbformat": 4,
 "nbformat_minor": 5
}
