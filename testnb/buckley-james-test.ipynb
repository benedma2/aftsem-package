{
 "cells": [
  {
   "cell_type": "code",
   "execution_count": 1,
   "id": "762ffa8e-fa7a-4883-a8d5-d56b812c4dc8",
   "metadata": {},
   "outputs": [],
   "source": [
    "library(survival)\n",
    "library(aftsem)"
   ]
  },
  {
   "cell_type": "code",
   "execution_count": 2,
   "id": "9dd54d7c-9db8-4bb8-bab5-2a47847c3b02",
   "metadata": {},
   "outputs": [],
   "source": [
    "load(\"/home/benedma/R/aftsem/testdata/stan.RData\")"
   ]
  },
  {
   "cell_type": "code",
   "execution_count": 3,
   "id": "fc63a05e-1367-41e7-afea-14681470561d",
   "metadata": {},
   "outputs": [
    {
     "data": {
      "text/html": [
       "<table class=\"dataframe\">\n",
       "<caption>A data.frame: 6 × 5</caption>\n",
       "<thead>\n",
       "\t<tr><th></th><th scope=col>id</th><th scope=col>time</th><th scope=col>status</th><th scope=col>age</th><th scope=col>t5</th></tr>\n",
       "\t<tr><th></th><th scope=col>&lt;int&gt;</th><th scope=col>&lt;int&gt;</th><th scope=col>&lt;int&gt;</th><th scope=col>&lt;int&gt;</th><th scope=col>&lt;dbl&gt;</th></tr>\n",
       "</thead>\n",
       "<tbody>\n",
       "\t<tr><th scope=row>1</th><td>1</td><td> 15</td><td>1</td><td>54</td><td>1.11</td></tr>\n",
       "\t<tr><th scope=row>2</th><td>2</td><td>  3</td><td>1</td><td>40</td><td>1.66</td></tr>\n",
       "\t<tr><th scope=row>3</th><td>3</td><td> 46</td><td>1</td><td>42</td><td>0.61</td></tr>\n",
       "\t<tr><th scope=row>4</th><td>4</td><td>623</td><td>1</td><td>51</td><td>1.32</td></tr>\n",
       "\t<tr><th scope=row>5</th><td>5</td><td>126</td><td>1</td><td>48</td><td>0.36</td></tr>\n",
       "\t<tr><th scope=row>6</th><td>6</td><td> 64</td><td>1</td><td>54</td><td>1.89</td></tr>\n",
       "</tbody>\n",
       "</table>\n"
      ],
      "text/latex": [
       "A data.frame: 6 × 5\n",
       "\\begin{tabular}{r|lllll}\n",
       "  & id & time & status & age & t5\\\\\n",
       "  & <int> & <int> & <int> & <int> & <dbl>\\\\\n",
       "\\hline\n",
       "\t1 & 1 &  15 & 1 & 54 & 1.11\\\\\n",
       "\t2 & 2 &   3 & 1 & 40 & 1.66\\\\\n",
       "\t3 & 3 &  46 & 1 & 42 & 0.61\\\\\n",
       "\t4 & 4 & 623 & 1 & 51 & 1.32\\\\\n",
       "\t5 & 5 & 126 & 1 & 48 & 0.36\\\\\n",
       "\t6 & 6 &  64 & 1 & 54 & 1.89\\\\\n",
       "\\end{tabular}\n"
      ],
      "text/markdown": [
       "\n",
       "A data.frame: 6 × 5\n",
       "\n",
       "| <!--/--> | id &lt;int&gt; | time &lt;int&gt; | status &lt;int&gt; | age &lt;int&gt; | t5 &lt;dbl&gt; |\n",
       "|---|---|---|---|---|---|\n",
       "| 1 | 1 |  15 | 1 | 54 | 1.11 |\n",
       "| 2 | 2 |   3 | 1 | 40 | 1.66 |\n",
       "| 3 | 3 |  46 | 1 | 42 | 0.61 |\n",
       "| 4 | 4 | 623 | 1 | 51 | 1.32 |\n",
       "| 5 | 5 | 126 | 1 | 48 | 0.36 |\n",
       "| 6 | 6 |  64 | 1 | 54 | 1.89 |\n",
       "\n"
      ],
      "text/plain": [
       "  id time status age t5  \n",
       "1 1   15  1      54  1.11\n",
       "2 2    3  1      40  1.66\n",
       "3 3   46  1      42  0.61\n",
       "4 4  623  1      51  1.32\n",
       "5 5  126  1      48  0.36\n",
       "6 6   64  1      54  1.89"
      ]
     },
     "metadata": {},
     "output_type": "display_data"
    }
   ],
   "source": [
    "head(stan)"
   ]
  },
  {
   "cell_type": "code",
   "execution_count": 4,
   "id": "63446c3e-d5c7-4954-807e-227ce85ffa1d",
   "metadata": {},
   "outputs": [
    {
     "name": "stderr",
     "output_type": "stream",
     "text": [
      "Warning message in aftsem(Surv(log(stan$time), stan$status) ~ stan$age, stan, binit = \"lm\"):\n",
      "“There are ties in the failure times.”\n"
     ]
    },
    {
     "data": {
      "text/plain": [
       "AFT Semiparametric Model Summary\n",
       "================================\n",
       "\n",
       "Model Call: aftsem(formula = Surv(log(stan$time), stan$status) ~ stan$age, \n",
       " Model Call:     data = stan, binit = \"lm\")\n",
       "\n",
       "Used parameter estimation method: \n",
       "[1] \"buckley\"\n",
       "\n",
       "Convergence Status: Converged\n",
       "\n",
       "Estimated Parameters:\n",
       "            [,1]\n",
       "[1,] -0.02952949\n",
       "\n",
       "Number of Iterations: 1\n",
       "Number of Observations: 157\n",
       "\n",
       "Initial Beta Estimate:\n",
       "          Z \n",
       "-0.01590403 \n",
       "\n",
       "Epsilon (Convergence Tolerance): 0.00100\n",
       "Maximum Iterations Allowed: 50\n"
      ]
     },
     "metadata": {},
     "output_type": "display_data"
    }
   ],
   "source": [
    "aftsem(Surv(log(stan$time),stan$status) ~ stan$age, stan, binit = \"lm\")"
   ]
  },
  {
   "cell_type": "code",
   "execution_count": 5,
   "id": "5e936590-051e-434a-8570-a52a13792e30",
   "metadata": {},
   "outputs": [
    {
     "name": "stderr",
     "output_type": "stream",
     "text": [
      "Warning message in aftsem(Surv(log(stan$time), stan$status) ~ stan$age + stan$t5, :\n",
      "“There are ties in the failure times.”\n"
     ]
    },
    {
     "data": {
      "text/plain": [
       "AFT Semiparametric Model Summary\n",
       "================================\n",
       "\n",
       "Model Call: aftsem(formula = Surv(log(stan$time), stan$status) ~ stan$age + \n",
       " Model Call:     stan$t5, data = stan, binit = \"lm\")\n",
       "\n",
       "Used parameter estimation method: \n",
       "[1] \"buckley\"\n",
       "\n",
       "Convergence Status: Converged\n",
       "\n",
       "Estimated Parameters:\n",
       "            [,1]\n",
       "[1,] -0.02928630\n",
       "[2,] -0.02510136\n",
       "\n",
       "Number of Iterations: 1\n",
       "Number of Observations: 157\n",
       "\n",
       "Initial Beta Estimate:\n",
       "  Zstan$age    Zstan$t5 \n",
       "-0.01544656 -0.07792793 \n",
       "\n",
       "Epsilon (Convergence Tolerance): 0.00100\n",
       "Maximum Iterations Allowed: 50\n"
      ]
     },
     "metadata": {},
     "output_type": "display_data"
    }
   ],
   "source": [
    "aftsem(Surv(log(stan$time),stan$status) ~ stan$age + stan$t5, stan, binit = \"lm\")"
   ]
  },
  {
   "cell_type": "code",
   "execution_count": 6,
   "id": "87dc200a-3b44-4ad0-9d69-7f5d6e274dcc",
   "metadata": {},
   "outputs": [
    {
     "name": "stderr",
     "output_type": "stream",
     "text": [
      "Loading required package: rms\n",
      "\n",
      "Loading required package: Hmisc\n",
      "\n",
      "\n",
      "Attaching package: ‘Hmisc’\n",
      "\n",
      "\n",
      "The following objects are masked from ‘package:base’:\n",
      "\n",
      "    format.pval, units\n",
      "\n",
      "\n",
      "Loading required package: mgcv\n",
      "\n",
      "Loading required package: nlme\n",
      "\n",
      "This is mgcv 1.8-41. For overview type 'help(\"mgcv-package\")'.\n",
      "\n"
     ]
    }
   ],
   "source": [
    "library(coxed)"
   ]
  },
  {
   "cell_type": "code",
   "execution_count": 7,
   "id": "36c588f8-e2a9-46ee-ab92-4684f1eba043",
   "metadata": {},
   "outputs": [
    {
     "data": {
      "text/html": [
       "<table class=\"dataframe\">\n",
       "<caption>A data.frame: 6 × 4</caption>\n",
       "<thead>\n",
       "\t<tr><th></th><th scope=col>survival_time</th><th scope=col>event</th><th scope=col>covariate1</th><th scope=col>covariate2</th></tr>\n",
       "\t<tr><th></th><th scope=col>&lt;dbl&gt;</th><th scope=col>&lt;lgl&gt;</th><th scope=col>&lt;dbl&gt;</th><th scope=col>&lt;dbl&gt;</th></tr>\n",
       "</thead>\n",
       "<tbody>\n",
       "\t<tr><th scope=row>1</th><td>0.3399627</td><td> TRUE</td><td> 0.20433930</td><td> 0.8844691</td></tr>\n",
       "\t<tr><th scope=row>2</th><td>0.2993869</td><td>FALSE</td><td> 0.84201710</td><td> 1.9494760</td></tr>\n",
       "\t<tr><th scope=row>3</th><td>0.3010567</td><td> TRUE</td><td>-0.01000474</td><td> 0.9268070</td></tr>\n",
       "\t<tr><th scope=row>4</th><td>0.1273207</td><td> TRUE</td><td>-0.05352590</td><td> 0.3224035</td></tr>\n",
       "\t<tr><th scope=row>5</th><td>0.3137958</td><td>FALSE</td><td>-0.69027006</td><td> 0.2369316</td></tr>\n",
       "\t<tr><th scope=row>6</th><td>1.8974085</td><td>FALSE</td><td> 0.53156312</td><td>-1.4948055</td></tr>\n",
       "</tbody>\n",
       "</table>\n"
      ],
      "text/latex": [
       "A data.frame: 6 × 4\n",
       "\\begin{tabular}{r|llll}\n",
       "  & survival\\_time & event & covariate1 & covariate2\\\\\n",
       "  & <dbl> & <lgl> & <dbl> & <dbl>\\\\\n",
       "\\hline\n",
       "\t1 & 0.3399627 &  TRUE &  0.20433930 &  0.8844691\\\\\n",
       "\t2 & 0.2993869 & FALSE &  0.84201710 &  1.9494760\\\\\n",
       "\t3 & 0.3010567 &  TRUE & -0.01000474 &  0.9268070\\\\\n",
       "\t4 & 0.1273207 &  TRUE & -0.05352590 &  0.3224035\\\\\n",
       "\t5 & 0.3137958 & FALSE & -0.69027006 &  0.2369316\\\\\n",
       "\t6 & 1.8974085 & FALSE &  0.53156312 & -1.4948055\\\\\n",
       "\\end{tabular}\n"
      ],
      "text/markdown": [
       "\n",
       "A data.frame: 6 × 4\n",
       "\n",
       "| <!--/--> | survival_time &lt;dbl&gt; | event &lt;lgl&gt; | covariate1 &lt;dbl&gt; | covariate2 &lt;dbl&gt; |\n",
       "|---|---|---|---|---|\n",
       "| 1 | 0.3399627 |  TRUE |  0.20433930 |  0.8844691 |\n",
       "| 2 | 0.2993869 | FALSE |  0.84201710 |  1.9494760 |\n",
       "| 3 | 0.3010567 |  TRUE | -0.01000474 |  0.9268070 |\n",
       "| 4 | 0.1273207 |  TRUE | -0.05352590 |  0.3224035 |\n",
       "| 5 | 0.3137958 | FALSE | -0.69027006 |  0.2369316 |\n",
       "| 6 | 1.8974085 | FALSE |  0.53156312 | -1.4948055 |\n",
       "\n"
      ],
      "text/plain": [
       "  survival_time event covariate1  covariate2\n",
       "1 0.3399627      TRUE  0.20433930  0.8844691\n",
       "2 0.2993869     FALSE  0.84201710  1.9494760\n",
       "3 0.3010567      TRUE -0.01000474  0.9268070\n",
       "4 0.1273207      TRUE -0.05352590  0.3224035\n",
       "5 0.3137958     FALSE -0.69027006  0.2369316\n",
       "6 1.8974085     FALSE  0.53156312 -1.4948055"
      ]
     },
     "metadata": {},
     "output_type": "display_data"
    }
   ],
   "source": [
    "\n",
    "n <- 500\n",
    "beta1 <- 0.5\n",
    "beta2 <- -0.3 \n",
    "censoring_rate <- 0.4\n",
    "\n",
    "\n",
    "covariate1 <- rnorm(n, mean = 0, sd = 1)\n",
    "covariate2 <- rnorm(n, mean = 0, sd = 1)\n",
    "\n",
    "\n",
    "linear_pred <- beta1 * covariate1 + beta2 * covariate2 + rnorm(n, mean = 0, sd = 2)\n",
    "survival_times <- exp(linear_pred)\n",
    "\n",
    "\n",
    "censoring_times <- rexp(n, rate = -log(1 - censoring_rate))\n",
    "event <- survival_times <= censoring_times\n",
    "censored_survival_times <- pmin(survival_times, censoring_times)\n",
    "\n",
    "\n",
    "data <- data.frame(survival_time = censored_survival_times, event = event, covariate1 = covariate1, covariate2 = covariate2)\n",
    "\n",
    "\n",
    "head(data)"
   ]
  },
  {
   "cell_type": "code",
   "execution_count": null,
   "id": "891ffbf4-e452-40ee-86bf-4ea530d49cbb",
   "metadata": {},
   "outputs": [],
   "source": [
    "aftsem(Surv(data$survival_time,data$event) ~ data$covariate1 + data$covariate2, data, binit=\"lm\")"
   ]
  },
  {
   "cell_type": "code",
   "execution_count": 2,
   "id": "aa20cfbb-3c91-44ee-bc1e-f6755cafb221",
   "metadata": {
    "tags": []
   },
   "outputs": [],
   "source": [
    "h <- read.csv(\"/home/benedma/R/aftsem/testdata/hmohiv.csv\")"
   ]
  },
  {
   "cell_type": "code",
   "execution_count": 4,
   "id": "1a27f5ee-43a3-434d-abe6-0ee6d74936e5",
   "metadata": {
    "tags": []
   },
   "outputs": [
    {
     "data": {
      "text/html": [
       "<table class=\"dataframe\">\n",
       "<caption>A data.frame: 6 × 7</caption>\n",
       "<thead>\n",
       "\t<tr><th></th><th scope=col>ID</th><th scope=col>time</th><th scope=col>age</th><th scope=col>drug</th><th scope=col>censor</th><th scope=col>entdate</th><th scope=col>enddate</th></tr>\n",
       "\t<tr><th></th><th scope=col>&lt;int&gt;</th><th scope=col>&lt;int&gt;</th><th scope=col>&lt;int&gt;</th><th scope=col>&lt;int&gt;</th><th scope=col>&lt;int&gt;</th><th scope=col>&lt;chr&gt;</th><th scope=col>&lt;chr&gt;</th></tr>\n",
       "</thead>\n",
       "<tbody>\n",
       "\t<tr><th scope=row>1</th><td>1</td><td> 5</td><td>46</td><td>0</td><td>1</td><td>5/15/1990 </td><td>10/14/1990 </td></tr>\n",
       "\t<tr><th scope=row>2</th><td>2</td><td> 6</td><td>35</td><td>1</td><td>0</td><td>9/19/1989 </td><td>3/20/1990  </td></tr>\n",
       "\t<tr><th scope=row>3</th><td>3</td><td> 8</td><td>30</td><td>1</td><td>1</td><td>4/21/1991 </td><td>12/20/1991 </td></tr>\n",
       "\t<tr><th scope=row>4</th><td>4</td><td> 3</td><td>30</td><td>1</td><td>1</td><td>1/3/1991  </td><td>4/4/1991   </td></tr>\n",
       "\t<tr><th scope=row>5</th><td>5</td><td>22</td><td>36</td><td>0</td><td>1</td><td>9/18/1989 </td><td>7/19/1991  </td></tr>\n",
       "\t<tr><th scope=row>6</th><td>6</td><td> 1</td><td>32</td><td>1</td><td>0</td><td>3/18/1991 </td><td>4/17/1991  </td></tr>\n",
       "</tbody>\n",
       "</table>\n"
      ],
      "text/latex": [
       "A data.frame: 6 × 7\n",
       "\\begin{tabular}{r|lllllll}\n",
       "  & ID & time & age & drug & censor & entdate & enddate\\\\\n",
       "  & <int> & <int> & <int> & <int> & <int> & <chr> & <chr>\\\\\n",
       "\\hline\n",
       "\t1 & 1 &  5 & 46 & 0 & 1 & 5/15/1990  & 10/14/1990 \\\\\n",
       "\t2 & 2 &  6 & 35 & 1 & 0 & 9/19/1989  & 3/20/1990  \\\\\n",
       "\t3 & 3 &  8 & 30 & 1 & 1 & 4/21/1991  & 12/20/1991 \\\\\n",
       "\t4 & 4 &  3 & 30 & 1 & 1 & 1/3/1991   & 4/4/1991   \\\\\n",
       "\t5 & 5 & 22 & 36 & 0 & 1 & 9/18/1989  & 7/19/1991  \\\\\n",
       "\t6 & 6 &  1 & 32 & 1 & 0 & 3/18/1991  & 4/17/1991  \\\\\n",
       "\\end{tabular}\n"
      ],
      "text/markdown": [
       "\n",
       "A data.frame: 6 × 7\n",
       "\n",
       "| <!--/--> | ID &lt;int&gt; | time &lt;int&gt; | age &lt;int&gt; | drug &lt;int&gt; | censor &lt;int&gt; | entdate &lt;chr&gt; | enddate &lt;chr&gt; |\n",
       "|---|---|---|---|---|---|---|---|\n",
       "| 1 | 1 |  5 | 46 | 0 | 1 | 5/15/1990  | 10/14/1990  |\n",
       "| 2 | 2 |  6 | 35 | 1 | 0 | 9/19/1989  | 3/20/1990   |\n",
       "| 3 | 3 |  8 | 30 | 1 | 1 | 4/21/1991  | 12/20/1991  |\n",
       "| 4 | 4 |  3 | 30 | 1 | 1 | 1/3/1991   | 4/4/1991    |\n",
       "| 5 | 5 | 22 | 36 | 0 | 1 | 9/18/1989  | 7/19/1991   |\n",
       "| 6 | 6 |  1 | 32 | 1 | 0 | 3/18/1991  | 4/17/1991   |\n",
       "\n"
      ],
      "text/plain": [
       "  ID time age drug censor entdate    enddate    \n",
       "1 1   5   46  0    1      5/15/1990  10/14/1990 \n",
       "2 2   6   35  1    0      9/19/1989  3/20/1990  \n",
       "3 3   8   30  1    1      4/21/1991  12/20/1991 \n",
       "4 4   3   30  1    1      1/3/1991   4/4/1991   \n",
       "5 5  22   36  0    1      9/18/1989  7/19/1991  \n",
       "6 6   1   32  1    0      3/18/1991  4/17/1991  "
      ]
     },
     "metadata": {},
     "output_type": "display_data"
    }
   ],
   "source": [
    "head(h)"
   ]
  },
  {
   "cell_type": "code",
   "execution_count": 6,
   "id": "5f97d867-a49e-4f1c-aa28-ceeb2afd3ae3",
   "metadata": {
    "tags": []
   },
   "outputs": [
    {
     "data": {
      "text/html": [
       "<style>\n",
       ".list-inline {list-style: none; margin:0; padding: 0}\n",
       ".list-inline>li {display: inline-block}\n",
       ".list-inline>li:not(:last-child)::after {content: \"\\00b7\"; padding: 0 .5ex}\n",
       "</style>\n",
       "<ol class=list-inline><li>5</li><li>6</li><li>8</li><li>3</li><li>22</li><li>1</li><li>7</li><li>9</li><li>3</li><li>12</li><li>2</li><li>12</li><li>1</li><li>15</li><li>34</li><li>1</li><li>4</li><li>19</li><li>3</li><li>2</li><li>2</li><li>6</li><li>60</li><li>11</li><li>2</li><li>5</li><li>4</li><li>1</li><li>13</li><li>3</li><li>2</li><li>1</li><li>30</li><li>7</li><li>4</li><li>8</li><li>5</li><li>10</li><li>2</li><li>9</li><li>36</li><li>3</li><li>9</li><li>3</li><li>35</li><li>8</li><li>11</li><li>56</li><li>2</li><li>3</li><li>15</li><li>1</li><li>10</li><li>1</li><li>7</li><li>3</li><li>3</li><li>2</li><li>32</li><li>3</li><li>10</li><li>11</li><li>3</li><li>7</li><li>5</li><li>31</li><li>5</li><li>58</li><li>1</li><li>3</li><li>43</li><li>1</li><li>6</li><li>53</li><li>14</li><li>4</li><li>54</li><li>1</li><li>1</li><li>8</li><li>5</li><li>1</li><li>1</li><li>2</li><li>7</li><li>1</li><li>10</li><li>24</li><li>7</li><li>12</li><li>4</li><li>57</li><li>1</li><li>12</li><li>7</li><li>1</li><li>5</li><li>60</li><li>2</li><li>1</li></ol>\n"
      ],
      "text/latex": [
       "\\begin{enumerate*}\n",
       "\\item 5\n",
       "\\item 6\n",
       "\\item 8\n",
       "\\item 3\n",
       "\\item 22\n",
       "\\item 1\n",
       "\\item 7\n",
       "\\item 9\n",
       "\\item 3\n",
       "\\item 12\n",
       "\\item 2\n",
       "\\item 12\n",
       "\\item 1\n",
       "\\item 15\n",
       "\\item 34\n",
       "\\item 1\n",
       "\\item 4\n",
       "\\item 19\n",
       "\\item 3\n",
       "\\item 2\n",
       "\\item 2\n",
       "\\item 6\n",
       "\\item 60\n",
       "\\item 11\n",
       "\\item 2\n",
       "\\item 5\n",
       "\\item 4\n",
       "\\item 1\n",
       "\\item 13\n",
       "\\item 3\n",
       "\\item 2\n",
       "\\item 1\n",
       "\\item 30\n",
       "\\item 7\n",
       "\\item 4\n",
       "\\item 8\n",
       "\\item 5\n",
       "\\item 10\n",
       "\\item 2\n",
       "\\item 9\n",
       "\\item 36\n",
       "\\item 3\n",
       "\\item 9\n",
       "\\item 3\n",
       "\\item 35\n",
       "\\item 8\n",
       "\\item 11\n",
       "\\item 56\n",
       "\\item 2\n",
       "\\item 3\n",
       "\\item 15\n",
       "\\item 1\n",
       "\\item 10\n",
       "\\item 1\n",
       "\\item 7\n",
       "\\item 3\n",
       "\\item 3\n",
       "\\item 2\n",
       "\\item 32\n",
       "\\item 3\n",
       "\\item 10\n",
       "\\item 11\n",
       "\\item 3\n",
       "\\item 7\n",
       "\\item 5\n",
       "\\item 31\n",
       "\\item 5\n",
       "\\item 58\n",
       "\\item 1\n",
       "\\item 3\n",
       "\\item 43\n",
       "\\item 1\n",
       "\\item 6\n",
       "\\item 53\n",
       "\\item 14\n",
       "\\item 4\n",
       "\\item 54\n",
       "\\item 1\n",
       "\\item 1\n",
       "\\item 8\n",
       "\\item 5\n",
       "\\item 1\n",
       "\\item 1\n",
       "\\item 2\n",
       "\\item 7\n",
       "\\item 1\n",
       "\\item 10\n",
       "\\item 24\n",
       "\\item 7\n",
       "\\item 12\n",
       "\\item 4\n",
       "\\item 57\n",
       "\\item 1\n",
       "\\item 12\n",
       "\\item 7\n",
       "\\item 1\n",
       "\\item 5\n",
       "\\item 60\n",
       "\\item 2\n",
       "\\item 1\n",
       "\\end{enumerate*}\n"
      ],
      "text/markdown": [
       "1. 5\n",
       "2. 6\n",
       "3. 8\n",
       "4. 3\n",
       "5. 22\n",
       "6. 1\n",
       "7. 7\n",
       "8. 9\n",
       "9. 3\n",
       "10. 12\n",
       "11. 2\n",
       "12. 12\n",
       "13. 1\n",
       "14. 15\n",
       "15. 34\n",
       "16. 1\n",
       "17. 4\n",
       "18. 19\n",
       "19. 3\n",
       "20. 2\n",
       "21. 2\n",
       "22. 6\n",
       "23. 60\n",
       "24. 11\n",
       "25. 2\n",
       "26. 5\n",
       "27. 4\n",
       "28. 1\n",
       "29. 13\n",
       "30. 3\n",
       "31. 2\n",
       "32. 1\n",
       "33. 30\n",
       "34. 7\n",
       "35. 4\n",
       "36. 8\n",
       "37. 5\n",
       "38. 10\n",
       "39. 2\n",
       "40. 9\n",
       "41. 36\n",
       "42. 3\n",
       "43. 9\n",
       "44. 3\n",
       "45. 35\n",
       "46. 8\n",
       "47. 11\n",
       "48. 56\n",
       "49. 2\n",
       "50. 3\n",
       "51. 15\n",
       "52. 1\n",
       "53. 10\n",
       "54. 1\n",
       "55. 7\n",
       "56. 3\n",
       "57. 3\n",
       "58. 2\n",
       "59. 32\n",
       "60. 3\n",
       "61. 10\n",
       "62. 11\n",
       "63. 3\n",
       "64. 7\n",
       "65. 5\n",
       "66. 31\n",
       "67. 5\n",
       "68. 58\n",
       "69. 1\n",
       "70. 3\n",
       "71. 43\n",
       "72. 1\n",
       "73. 6\n",
       "74. 53\n",
       "75. 14\n",
       "76. 4\n",
       "77. 54\n",
       "78. 1\n",
       "79. 1\n",
       "80. 8\n",
       "81. 5\n",
       "82. 1\n",
       "83. 1\n",
       "84. 2\n",
       "85. 7\n",
       "86. 1\n",
       "87. 10\n",
       "88. 24\n",
       "89. 7\n",
       "90. 12\n",
       "91. 4\n",
       "92. 57\n",
       "93. 1\n",
       "94. 12\n",
       "95. 7\n",
       "96. 1\n",
       "97. 5\n",
       "98. 60\n",
       "99. 2\n",
       "100. 1\n",
       "\n",
       "\n"
      ],
      "text/plain": [
       "  [1]  5  6  8  3 22  1  7  9  3 12  2 12  1 15 34  1  4 19  3  2  2  6 60 11  2\n",
       " [26]  5  4  1 13  3  2  1 30  7  4  8  5 10  2  9 36  3  9  3 35  8 11 56  2  3\n",
       " [51] 15  1 10  1  7  3  3  2 32  3 10 11  3  7  5 31  5 58  1  3 43  1  6 53 14\n",
       " [76]  4 54  1  1  8  5  1  1  2  7  1 10 24  7 12  4 57  1 12  7  1  5 60  2  1"
      ]
     },
     "metadata": {},
     "output_type": "display_data"
    }
   ],
   "source": [
    "h$time"
   ]
  },
  {
   "cell_type": "code",
   "execution_count": 7,
   "id": "a303102f-263f-4cf8-8d41-311737c60b0c",
   "metadata": {
    "tags": []
   },
   "outputs": [
    {
     "name": "stderr",
     "output_type": "stream",
     "text": [
      "Warning message in aftsem(Surv(log(h$time), h$censor) ~ h$age + h$drug, h, binit = \"lm\"):\n",
      "“There are ties in the failure times.”\n"
     ]
    },
    {
     "data": {
      "text/plain": [
       "AFT Semiparametric Model Summary\n",
       "================================\n",
       "\n",
       "Model Call: aftsem(formula = Surv(log(h$time), h$censor) ~ h$age + h$drug, \n",
       " Model Call:     data = h, binit = \"lm\")\n",
       "\n",
       "Used parameter estimation method: \n",
       "[1] \"buckley\"\n",
       "\n",
       "Convergence Status: Converged\n",
       "\n",
       "Estimated Parameters:\n",
       "            [,1]\n",
       "[1,] -0.08331695\n",
       "[2,] -0.87551624\n",
       "\n",
       "Number of Iterations: 1\n",
       "Number of Observations: 100\n",
       "\n",
       "Initial Beta Estimate:\n",
       "    Zh$age    Zh$drug \n",
       "-0.0800312 -0.9026671 \n",
       "\n",
       "Epsilon (Convergence Tolerance): 0.00100\n",
       "Maximum Iterations Allowed: 50\n"
      ]
     },
     "metadata": {},
     "output_type": "display_data"
    }
   ],
   "source": [
    "aftsem(Surv(log(h$time),h$censor) ~ h$age + h$drug, h, binit=\"lm\")"
   ]
  }
 ],
 "metadata": {
  "kernelspec": {
   "display_name": "R",
   "language": "R",
   "name": "ir"
  },
  "language_info": {
   "codemirror_mode": "r",
   "file_extension": ".r",
   "mimetype": "text/x-r-source",
   "name": "R",
   "pygments_lexer": "r",
   "version": "4.2.2"
  }
 },
 "nbformat": 4,
 "nbformat_minor": 5
}
